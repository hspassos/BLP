{
 "cells": [
  {
   "cell_type": "code",
   "execution_count": 150,
   "metadata": {},
   "outputs": [
    {
     "name": "stderr",
     "output_type": "stream",
     "text": [
      "/tmp/ipykernel_548659/3674724974.py:1: DeprecationWarning: `magic(...)` is deprecated since IPython 0.13 (warning added in 8.1), use run_line_magic(magic_name, parameter_s).\n",
      "  get_ipython().magic('reset -sf')\n"
     ]
    }
   ],
   "source": [
    "get_ipython().magic('reset -sf')"
   ]
  },
  {
   "cell_type": "code",
   "execution_count": 151,
   "metadata": {},
   "outputs": [],
   "source": [
    "from IPython import get_ipython\n",
    "import scipy.io\n",
    "import numpy as np\n",
    "import pandas as pd\n",
    "import scipy.stats as stats\n",
    "import pyblp"
   ]
  },
  {
   "cell_type": "markdown",
   "metadata": {},
   "source": [
    "# 1. Setting\n",
    "\n",
    "A number of national producers sell substitute products in regional markets. The government intends to bail out a struggling firm and and allow it to merge with one of its healthy competitors. What do you expect the welfare consequences to be?"
   ]
  },
  {
   "cell_type": "markdown",
   "metadata": {},
   "source": []
  },
  {
   "cell_type": "markdown",
   "metadata": {},
   "source": [
    "# 2. Data description\n",
    "\n",
    "For the empirical exercise, we are giving you data on T = 10 markets. In these markets, 11 different firms sell a total of J = 247 products. All of the products are unique, so none of them are offered in multiple markets. The dataset is simulated, but you can still think of a product as a passenger vehicle with a set of characteristics if you like, although the units do not have an interpretation. The dataset contains the following pieces of data, where products are ordered by market (1-10):\n",
    "- \"prodsMarket\": T-vector of the number of products in each market\n",
    "- \"share\": J-vector of market shares\n",
    "- \"f\": J-vector denoting the firm that sells the product\n",
    "- \"ch\": J x 4-matrix of constant and three product characteristics\n",
    "- \"pr\": J-vector of prices\n",
    "- \"costShifters\": J x 2-matrix of cost shifters"
   ]
  },
  {
   "cell_type": "markdown",
   "metadata": {},
   "source": [
    "# 3. Basic summary statistics\n",
    "\n",
    "1. Prepare a table with the following pieces of information for each market: How many firms are active? How many products do they market in total? What fraction of agents bought one of the goods in the sample period?"
   ]
  },
  {
   "cell_type": "code",
   "execution_count": 152,
   "metadata": {},
   "outputs": [],
   "source": [
    "mat_data = scipy.io.loadmat(\"/home/hspassos/mestrado/industrial/demand_data.mat\")\n",
    "\n",
    "prodsMarket = {'market': [1, 2, 3, 4, 5, 6, 7, 8, 9, 10]}\n",
    "prodsMarket = pd.DataFrame(prodsMarket)\n",
    "prodsMarket['prodsMarket'] = mat_data['prodsMarket'].flatten()\n",
    "\n",
    "# Criar tabela com os dados por produto\n",
    "data = pd.DataFrame({\n",
    "    'market_ids': 1 + np.repeat(np.arange(len(prodsMarket)), prodsMarket['prodsMarket']),\n",
    "    'firm_ids': mat_data['f'].flatten(),\n",
    "    'shares': mat_data['share'].flatten(),\n",
    "    'prices': mat_data['pr'].flatten(),\n",
    "    'const': mat_data['ch'][:, 0],\n",
    "    'char1': mat_data['ch'][:, 1],\n",
    "    'char2': mat_data['ch'][:, 2],\n",
    "    'char3': mat_data['ch'][:, 3],\n",
    "    'costsh1': mat_data['costShifters'][:, 0],\n",
    "    'costsh2': mat_data['costShifters'][:, 1],\n",
    "})\n",
    "\n",
    "\n",
    "# Tabela com os dados para cada mercado\n",
    "prodsMarket['activefirms'] = data.groupby('market_ids')['firm_ids'].nunique()\n",
    "\n",
    "prodsMarket['firm_1'] = data[data['firm_ids'] == 1].groupby('market_ids')['firm_ids'].count()\n",
    "prodsMarket['share_firm_1'] = data[data['firm_ids'] == 1].groupby('market_ids')['shares'].sum()\n",
    "\n",
    "prodsMarket['firm_2'] = data[data['firm_ids'] == 2].groupby('market_ids')['firm_ids'].count()\n",
    "prodsMarket['share_firm_2'] = data[data['firm_ids'] == 2].groupby('market_ids')['shares'].sum()\n",
    "\n",
    "prodsMarket['firm_3'] = data[data['firm_ids'] == 3].groupby('market_ids')['firm_ids'].count()\n",
    "prodsMarket['share_firm_3'] = data[data['firm_ids'] == 3].groupby('market_ids')['shares'].sum()\n",
    "\n",
    "prodsMarket['firm_4'] = data[data['firm_ids'] == 4].groupby('market_ids')['firm_ids'].count()\n",
    "prodsMarket['share_firm_4'] = data[data['firm_ids'] == 4].groupby('market_ids')['shares'].sum()\n",
    "\n",
    "prodsMarket['firm_5'] = data[data['firm_ids'] == 5].groupby('market_ids')['firm_ids'].count()\n",
    "prodsMarket['share_firm_5'] = data[data['firm_ids'] == 5].groupby('market_ids')['shares'].sum()\n",
    "\n",
    "prodsMarket['firm_6'] = data[data['firm_ids'] == 6].groupby('market_ids')['firm_ids'].count()\n",
    "prodsMarket['share_firm_6'] = data[data['firm_ids'] == 6].groupby('market_ids')['shares'].sum()\n",
    "\n",
    "prodsMarket['firm_7'] = data[data['firm_ids'] == 7].groupby('market_ids')['firm_ids'].count()\n",
    "prodsMarket['share_firm_7'] = data[data['firm_ids'] == 7].groupby('market_ids')['shares'].sum()\n",
    "\n",
    "prodsMarket['firm_8'] = data[data['firm_ids'] == 8].groupby('market_ids')['firm_ids'].count()\n",
    "prodsMarket['share_firm_8'] = data[data['firm_ids'] == 8].groupby('market_ids')['shares'].sum()\n",
    "\n",
    "prodsMarket['firm_9'] = data[data['firm_ids'] == 9].groupby('market_ids')['firm_ids'].count()\n",
    "prodsMarket['share_firm_9'] = data[data['firm_ids'] == 9].groupby('market_ids')['shares'].sum()\n",
    "\n",
    "prodsMarket['firm_10'] = data[data['firm_ids'] == 10].groupby('market_ids')['firm_ids'].count()\n",
    "prodsMarket['share_firm_10'] = data[data['firm_ids'] == 10].groupby('market_ids')['shares'].sum()\n",
    "\n",
    "prodsMarket['firm_11'] = data[data['firm_ids'] == 11].groupby('market_ids')['firm_ids'].count()\n",
    "prodsMarket['share_firm_11'] = data[data['firm_ids'] == 11].groupby('market_ids')['shares'].sum()\n",
    "\n",
    "\n"
   ]
  },
  {
   "cell_type": "markdown",
   "metadata": {},
   "source": [
    "2. Prepare a table with summary statistics for market share, characteristics, price, and cost shifters. Please include mean, median, minimum, maximum, and standard deviation. You can inspect these statistics separately for each market, but in what you report, you may pool all markets."
   ]
  },
  {
   "cell_type": "code",
   "execution_count": 153,
   "metadata": {},
   "outputs": [
    {
     "data": {
      "application/vnd.microsoft.datawrangler.viewer.v0+json": {
       "columns": [
        {
         "name": "index",
         "rawType": "object",
         "type": "string"
        },
        {
         "name": "shares",
         "rawType": "float64",
         "type": "float"
        },
        {
         "name": "prices",
         "rawType": "float64",
         "type": "float"
        },
        {
         "name": "const",
         "rawType": "float64",
         "type": "float"
        },
        {
         "name": "char1",
         "rawType": "float64",
         "type": "float"
        },
        {
         "name": "char2",
         "rawType": "float64",
         "type": "float"
        },
        {
         "name": "char3",
         "rawType": "float64",
         "type": "float"
        },
        {
         "name": "costsh1",
         "rawType": "float64",
         "type": "float"
        },
        {
         "name": "costsh2",
         "rawType": "float64",
         "type": "float"
        }
       ],
       "conversionMethod": "pd.DataFrame",
       "ref": "b95d15be-738d-4159-a248-273cf7759edf",
       "rows": [
        [
         "mean",
         "0.024298910998383258",
         "3.501501415753425",
         "1.0",
         "1.4739909220012577",
         "1.4980170600953937",
         "1.4724444719750005",
         "0.26429738236270994",
         "0.23878405197248218"
        ],
        [
         "median",
         "0.00947405902111082",
         "3.5200122499183597",
         "1.0",
         "1.4251050628440178",
         "1.4519335830346347",
         "1.4827235974222894",
         "0.2722701752894885",
         "0.23669546946729322"
        ],
        [
         "minimum",
         "0.00012442982944864923",
         "1.2966771061350284",
         "1.0",
         "-1.1663533579083283",
         "-1.147205197465027",
         "-1.38770777760016",
         "0.005698183554084126",
         "0.0020974923400662337"
        ],
        [
         "maximum",
         "0.26883082445311063",
         "6.2129184504894255",
         "1.0",
         "4.362982923291959",
         "3.936271248047407",
         "4.482866813285655",
         "0.4998341817408028",
         "0.4996757043989728"
        ],
        [
         "standard deviation",
         "0.03842684202834008",
         "0.8288603404278558",
         "0.0",
         "0.9672424710111645",
         "0.9130440179525349",
         "0.9858343862688806",
         "0.14062339451213446",
         "0.13954288920922156"
        ]
       ],
       "shape": {
        "columns": 8,
        "rows": 5
       }
      },
      "text/html": [
       "<div>\n",
       "<style scoped>\n",
       "    .dataframe tbody tr th:only-of-type {\n",
       "        vertical-align: middle;\n",
       "    }\n",
       "\n",
       "    .dataframe tbody tr th {\n",
       "        vertical-align: top;\n",
       "    }\n",
       "\n",
       "    .dataframe thead th {\n",
       "        text-align: right;\n",
       "    }\n",
       "</style>\n",
       "<table border=\"1\" class=\"dataframe\">\n",
       "  <thead>\n",
       "    <tr style=\"text-align: right;\">\n",
       "      <th></th>\n",
       "      <th>shares</th>\n",
       "      <th>prices</th>\n",
       "      <th>const</th>\n",
       "      <th>char1</th>\n",
       "      <th>char2</th>\n",
       "      <th>char3</th>\n",
       "      <th>costsh1</th>\n",
       "      <th>costsh2</th>\n",
       "    </tr>\n",
       "  </thead>\n",
       "  <tbody>\n",
       "    <tr>\n",
       "      <th>mean</th>\n",
       "      <td>0.024299</td>\n",
       "      <td>3.501501</td>\n",
       "      <td>1.0</td>\n",
       "      <td>1.473991</td>\n",
       "      <td>1.498017</td>\n",
       "      <td>1.472444</td>\n",
       "      <td>0.264297</td>\n",
       "      <td>0.238784</td>\n",
       "    </tr>\n",
       "    <tr>\n",
       "      <th>median</th>\n",
       "      <td>0.009474</td>\n",
       "      <td>3.520012</td>\n",
       "      <td>1.0</td>\n",
       "      <td>1.425105</td>\n",
       "      <td>1.451934</td>\n",
       "      <td>1.482724</td>\n",
       "      <td>0.272270</td>\n",
       "      <td>0.236695</td>\n",
       "    </tr>\n",
       "    <tr>\n",
       "      <th>minimum</th>\n",
       "      <td>0.000124</td>\n",
       "      <td>1.296677</td>\n",
       "      <td>1.0</td>\n",
       "      <td>-1.166353</td>\n",
       "      <td>-1.147205</td>\n",
       "      <td>-1.387708</td>\n",
       "      <td>0.005698</td>\n",
       "      <td>0.002097</td>\n",
       "    </tr>\n",
       "    <tr>\n",
       "      <th>maximum</th>\n",
       "      <td>0.268831</td>\n",
       "      <td>6.212918</td>\n",
       "      <td>1.0</td>\n",
       "      <td>4.362983</td>\n",
       "      <td>3.936271</td>\n",
       "      <td>4.482867</td>\n",
       "      <td>0.499834</td>\n",
       "      <td>0.499676</td>\n",
       "    </tr>\n",
       "    <tr>\n",
       "      <th>standard deviation</th>\n",
       "      <td>0.038427</td>\n",
       "      <td>0.828860</td>\n",
       "      <td>0.0</td>\n",
       "      <td>0.967242</td>\n",
       "      <td>0.913044</td>\n",
       "      <td>0.985834</td>\n",
       "      <td>0.140623</td>\n",
       "      <td>0.139543</td>\n",
       "    </tr>\n",
       "  </tbody>\n",
       "</table>\n",
       "</div>"
      ],
      "text/plain": [
       "                      shares    prices  const     char1     char2     char3  \\\n",
       "mean                0.024299  3.501501    1.0  1.473991  1.498017  1.472444   \n",
       "median              0.009474  3.520012    1.0  1.425105  1.451934  1.482724   \n",
       "minimum             0.000124  1.296677    1.0 -1.166353 -1.147205 -1.387708   \n",
       "maximum             0.268831  6.212918    1.0  4.362983  3.936271  4.482867   \n",
       "standard deviation  0.038427  0.828860    0.0  0.967242  0.913044  0.985834   \n",
       "\n",
       "                     costsh1   costsh2  \n",
       "mean                0.264297  0.238784  \n",
       "median              0.272270  0.236695  \n",
       "minimum             0.005698  0.002097  \n",
       "maximum             0.499834  0.499676  \n",
       "standard deviation  0.140623  0.139543  "
      ]
     },
     "execution_count": 153,
     "metadata": {},
     "output_type": "execute_result"
    }
   ],
   "source": [
    "statistics = pd.DataFrame({\n",
    "    'mean': data.iloc[:, 2:].mean(),\n",
    "    'median': data.iloc[:, 2:].median(),\n",
    "    'minimum': data.iloc[:, 2:].min(),\n",
    "    'maximum': data.iloc[:, 2:].max(),\n",
    "    'standard deviation': data.iloc[:, 2:].std()\n",
    "}).T\n",
    "\n",
    "statistics"
   ]
  },
  {
   "cell_type": "markdown",
   "metadata": {},
   "source": [
    "# 4. Pure logit model\n",
    "\n",
    "1. Suppose agents have the following utility function, where i denotes the agent, and j denotes the product: $$u_{ij}= \\underbrace{\\delta_j}_{x'_j\\beta - \\alpha_{pj} + \\xi} + \\epsilon_{ij}$$ where $\\epsilon_{ij}$ is an iid error following a standard Type-I Extreme Value distribution with $F(\\epsilon) = e^{-e^{-\\epsilon}}$ (\"logit\" errors). Suppose further that the firms know $\\xi$ when setting prices but did not know $\\xi$ when setting characteristics.\n",
    "\n",
    "1.a. What statistical assumptions can you make based on this? Which of your conditions, based on data provided to you, identify the parameter vector of interest, $\\theta = (\\alpha; \\beta)$? In other words, what are valid (and relevant) instruments? Is the model over-identified?"
   ]
  },
  {
   "cell_type": "code",
   "execution_count": null,
   "metadata": {},
   "outputs": [],
   "source": []
  },
  {
   "cell_type": "markdown",
   "metadata": {},
   "source": [
    "1.b. Show how you can invert market shares to obtain the mean utility level $\\delta_j$ for each product."
   ]
  },
  {
   "cell_type": "code",
   "execution_count": 154,
   "metadata": {},
   "outputs": [
    {
     "name": "stdout",
     "output_type": "stream",
     "text": [
      "Initializing the problem ...\n",
      "Initialized the problem after 00:00:00.\n",
      "\n",
      "Dimensions:\n",
      "=========================\n",
      " T    N    F    K1    MD \n",
      "---  ---  ---  ----  ----\n",
      "10   247  11    16    15 \n",
      "=========================\n",
      "\n",
      "Formulations:\n",
      "================================================================================================================================================================================================================================================================================================================\n",
      "     Column Indices:         0     1       2      3      4       5        6                7                        8                        9                       10                       11                       12                       13                       14                        15           \n",
      "--------------------------  ---  ------  -----  -----  -----  -------  -------  -----------------------  -----------------------  -----------------------  -----------------------  -----------------------  -----------------------  -----------------------  -----------------------  ------------------------\n",
      "X1: Linear Characteristics   1   prices  char1  char2  char3  costsh1  costsh2  market_ids[np.int64(2)]  market_ids[np.int64(3)]  market_ids[np.int64(4)]  market_ids[np.int64(5)]  market_ids[np.int64(6)]  market_ids[np.int64(7)]  market_ids[np.int64(8)]  market_ids[np.int64(9)]  market_ids[np.int64(10)]\n",
      "================================================================================================================================================================================================================================================================================================================\n",
      "Solving the problem ...\n",
      "Updating the weighting matrix ...\n",
      "Computed results after 00:00:00.\n",
      "\n",
      "Problem Results Summary:\n",
      "=========================================================\n",
      "GMM        Objective        Clipped    Weighting Matrix  \n",
      "Step         Value          Shares     Condition Number  \n",
      "----  --------------------  -------  --------------------\n",
      " 1    +1.1015612503960E-22     0     +1.7035496751822E+03\n",
      "=========================================================\n",
      "\n",
      "Estimating standard errors ...\n",
      "Computed results after 00:00:00.\n",
      "\n",
      "Problem Results Summary:\n",
      "===============================================================================\n",
      "GMM        Objective        Clipped    Weighting Matrix     Covariance Matrix  \n",
      "Step         Value          Shares     Condition Number      Condition Number  \n",
      "----  --------------------  -------  --------------------  --------------------\n",
      " 2    +1.2224187983935E-22     0     +2.2647128850152E+03  +2.7360765557644E+16\n",
      "===============================================================================\n",
      "\n",
      "Cumulative Statistics:\n",
      "========================\n",
      "Computation   Objective \n",
      "   Time      Evaluations\n",
      "-----------  -----------\n",
      " 00:00:00         2     \n",
      "========================\n",
      "\n",
      "Beta Estimates (Robust SEs in Parentheses):\n",
      "========================================================================================================================================================================================================================================================================================================================================================================================================\n",
      "          1                     prices                  char1                   char2                   char3                  costsh1                 costsh2          market_ids[np.int64(2)]  market_ids[np.int64(3)]  market_ids[np.int64(4)]  market_ids[np.int64(5)]  market_ids[np.int64(6)]  market_ids[np.int64(7)]  market_ids[np.int64(8)]  market_ids[np.int64(9)]  market_ids[np.int64(10)]\n",
      "----------------------  ----------------------  ----------------------  ----------------------  ----------------------  ----------------------  ----------------------  -----------------------  -----------------------  -----------------------  -----------------------  -----------------------  -----------------------  -----------------------  -----------------------  ------------------------\n",
      " +1.9919654830726E-01    -1.2844345136445E+00    +3.1426738231999E-01    +2.0899891145552E-01    +4.5138838777773E-01    -1.3731896495107E+00    -7.9706267352489E-01    -1.0292533327817E-01     -3.3497263462710E-01     -6.3727104311810E-02     -3.6788864615373E-01     +1.2742347289942E-01     -2.0861647425324E-01     -1.1647577675438E-01     -1.8218876744734E-01      +8.7162765178544E-02  \n",
      "(+5.9425768153800E-01)  (+1.0084179285127E-01)  (+2.1307555490657E-01)  (+2.2813206657403E-01)  (+1.4742748068199E-01)  (+3.0112854785167E-01)  (+3.6701157083996E-01)  (+1.7755288928037E-01)   (+1.7020613632542E-01)   (+2.4952908440767E-01)   (+2.2352394807636E-01)   (+1.8314581915051E-01)   (+1.8047938752949E-01)   (+2.1188851948366E-01)   (+2.5141385643304E-01)    (+2.4209617992080E-01) \n",
      "========================================================================================================================================================================================================================================================================================================================================================================================================\n"
     ]
    },
    {
     "name": "stderr",
     "output_type": "stream",
     "text": [
      "The model may be under-identified. The total number of unfixed parameters is 16, which is more than the total number of moments, 15. Consider checking whether instruments were properly specified when initializing the problem, and whether parameters were properly configured when solving the problem.\n"
     ]
    }
   ],
   "source": [
    "logit_formulation = pyblp.Formulation('prices + char1 + char2 + char3 + costsh1 + costsh2 + C(market_ids)')\n",
    "problem = pyblp.Problem(logit_formulation, data)\n",
    "\n",
    "logit_results = problem.solve()\n"
   ]
  },
  {
   "cell_type": "markdown",
   "metadata": {},
   "source": [
    "1.c. Estimate $\\theta = (\\alpha; \\beta)$ and provide standard errors for your estimate. You can try different combinations of instruments, but please use all the different types of instruments that are included or can be constructed from the data (i.e., \"BLP instruments\")."
   ]
  },
  {
   "cell_type": "code",
   "execution_count": 155,
   "metadata": {},
   "outputs": [
    {
     "name": "stdout",
     "output_type": "stream",
     "text": [
      "Computing delta ...\n",
      "Finished after 00:00:00.\n",
      "\n"
     ]
    },
    {
     "data": {
      "application/vnd.microsoft.datawrangler.viewer.v0+json": {
       "columns": [
        {
         "name": "index",
         "rawType": "int64",
         "type": "integer"
        },
        {
         "name": "0",
         "rawType": "float64",
         "type": "float"
        }
       ],
       "conversionMethod": "pd.DataFrame",
       "ref": "4370f983-0264-4456-9837-6e267dcd9e40",
       "rows": [
        [
         "0",
         "0.19919654830725975"
        ],
        [
         "1",
         "-1.284434513644531"
        ],
        [
         "2",
         "0.3142673823199905"
        ],
        [
         "3",
         "0.20899891145551816"
        ],
        [
         "4",
         "0.4513883877777296"
        ],
        [
         "5",
         "-1.373189649510706"
        ],
        [
         "6",
         "-0.797062673524894"
        ],
        [
         "7",
         "-0.10292533327816855"
        ],
        [
         "8",
         "-0.33497263462709626"
        ],
        [
         "9",
         "-0.06372710431180995"
        ],
        [
         "10",
         "-0.36788864615373384"
        ],
        [
         "11",
         "0.12742347289941502"
        ],
        [
         "12",
         "-0.20861647425323682"
        ],
        [
         "13",
         "-0.11647577675438114"
        ],
        [
         "14",
         "-0.18218876744734303"
        ],
        [
         "15",
         "0.08716276517854382"
        ]
       ],
       "shape": {
        "columns": 1,
        "rows": 16
       }
      },
      "text/html": [
       "<div>\n",
       "<style scoped>\n",
       "    .dataframe tbody tr th:only-of-type {\n",
       "        vertical-align: middle;\n",
       "    }\n",
       "\n",
       "    .dataframe tbody tr th {\n",
       "        vertical-align: top;\n",
       "    }\n",
       "\n",
       "    .dataframe thead th {\n",
       "        text-align: right;\n",
       "    }\n",
       "</style>\n",
       "<table border=\"1\" class=\"dataframe\">\n",
       "  <thead>\n",
       "    <tr style=\"text-align: right;\">\n",
       "      <th></th>\n",
       "      <th>0</th>\n",
       "    </tr>\n",
       "  </thead>\n",
       "  <tbody>\n",
       "    <tr>\n",
       "      <th>0</th>\n",
       "      <td>0.199197</td>\n",
       "    </tr>\n",
       "    <tr>\n",
       "      <th>1</th>\n",
       "      <td>-1.284435</td>\n",
       "    </tr>\n",
       "    <tr>\n",
       "      <th>2</th>\n",
       "      <td>0.314267</td>\n",
       "    </tr>\n",
       "    <tr>\n",
       "      <th>3</th>\n",
       "      <td>0.208999</td>\n",
       "    </tr>\n",
       "    <tr>\n",
       "      <th>4</th>\n",
       "      <td>0.451388</td>\n",
       "    </tr>\n",
       "    <tr>\n",
       "      <th>5</th>\n",
       "      <td>-1.373190</td>\n",
       "    </tr>\n",
       "    <tr>\n",
       "      <th>6</th>\n",
       "      <td>-0.797063</td>\n",
       "    </tr>\n",
       "    <tr>\n",
       "      <th>7</th>\n",
       "      <td>-0.102925</td>\n",
       "    </tr>\n",
       "    <tr>\n",
       "      <th>8</th>\n",
       "      <td>-0.334973</td>\n",
       "    </tr>\n",
       "    <tr>\n",
       "      <th>9</th>\n",
       "      <td>-0.063727</td>\n",
       "    </tr>\n",
       "    <tr>\n",
       "      <th>10</th>\n",
       "      <td>-0.367889</td>\n",
       "    </tr>\n",
       "    <tr>\n",
       "      <th>11</th>\n",
       "      <td>0.127423</td>\n",
       "    </tr>\n",
       "    <tr>\n",
       "      <th>12</th>\n",
       "      <td>-0.208616</td>\n",
       "    </tr>\n",
       "    <tr>\n",
       "      <th>13</th>\n",
       "      <td>-0.116476</td>\n",
       "    </tr>\n",
       "    <tr>\n",
       "      <th>14</th>\n",
       "      <td>-0.182189</td>\n",
       "    </tr>\n",
       "    <tr>\n",
       "      <th>15</th>\n",
       "      <td>0.087163</td>\n",
       "    </tr>\n",
       "  </tbody>\n",
       "</table>\n",
       "</div>"
      ],
      "text/plain": [
       "           0\n",
       "0   0.199197\n",
       "1  -1.284435\n",
       "2   0.314267\n",
       "3   0.208999\n",
       "4   0.451388\n",
       "5  -1.373190\n",
       "6  -0.797063\n",
       "7  -0.102925\n",
       "8  -0.334973\n",
       "9  -0.063727\n",
       "10 -0.367889\n",
       "11  0.127423\n",
       "12 -0.208616\n",
       "13 -0.116476\n",
       "14 -0.182189\n",
       "15  0.087163"
      ]
     },
     "execution_count": 155,
     "metadata": {},
     "output_type": "execute_result"
    }
   ],
   "source": [
    "\n",
    "data['delta'] = logit_results.compute_delta()\n",
    "theta_est = pd.DataFrame(logit_results.beta)\n",
    "theta_est\n",
    "#sigma_est = logit_results.sigma\n",
    "#standard_errors = logit_results.compute_standard_errors()\n",
    "\n",
    "#cov_matrix = logit_results.covariance\n",
    "\n"
   ]
  },
  {
   "cell_type": "markdown",
   "metadata": {},
   "source": [
    "2. Estimate and present the matrix of cross- and own-price elasticities for market 10 based on your model and parameter estimates."
   ]
  },
  {
   "cell_type": "code",
   "execution_count": 156,
   "metadata": {},
   "outputs": [
    {
     "name": "stdout",
     "output_type": "stream",
     "text": [
      "Computing elasticities with respect to prices ...\n",
      "Finished after 00:00:00.\n",
      "\n",
      "          0         1         2         3         4         5         6   \\\n",
      "0  -3.791656  0.591234  0.076763  0.038112  0.245743  0.209206  0.037551   \n",
      "1   0.065788 -3.422239  0.076763  0.038112  0.245743  0.209206  0.037551   \n",
      "2   0.065788  0.591234 -5.220499  0.038112  0.245743  0.209206  0.037551   \n",
      "3   0.065788  0.591234  0.076763 -3.584304  0.245743  0.209206  0.037551   \n",
      "4   0.065788  0.591234  0.076763  0.038112 -4.433488  0.209206  0.037551   \n",
      "5   0.065788  0.591234  0.076763  0.038112  0.245743 -3.041279  0.037551   \n",
      "6   0.065788  0.591234  0.076763  0.038112  0.245743  0.209206 -5.773704   \n",
      "7   0.065788  0.591234  0.076763  0.038112  0.245743  0.209206  0.037551   \n",
      "8   0.065788  0.591234  0.076763  0.038112  0.245743  0.209206  0.037551   \n",
      "9   0.065788  0.591234  0.076763  0.038112  0.245743  0.209206  0.037551   \n",
      "10  0.065788  0.591234  0.076763  0.038112  0.245743  0.209206  0.037551   \n",
      "\n",
      "          7         8         9         10  \n",
      "0   0.011711  0.377774  0.024602  0.009697  \n",
      "1   0.011711  0.377774  0.024602  0.009697  \n",
      "2   0.011711  0.377774  0.024602  0.009697  \n",
      "3   0.011711  0.377774  0.024602  0.009697  \n",
      "4   0.011711  0.377774  0.024602  0.009697  \n",
      "5   0.011711  0.377774  0.024602  0.009697  \n",
      "6   0.011711  0.377774  0.024602  0.009697  \n",
      "7  -5.278629  0.377774  0.024602  0.009697  \n",
      "8   0.011711 -3.271287  0.024602  0.009697  \n",
      "9   0.011711  0.377774 -6.355967  0.009697  \n",
      "10  0.011711  0.377774  0.024602 -4.709363  \n"
     ]
    }
   ],
   "source": [
    "elasticities = logit_results.compute_elasticities()\n",
    "elasticities_market_10 = pd.DataFrame(elasticities[data.market_ids == 10])\n",
    "elasticities_market_10 = elasticities_market_10.dropna(axis=1, how='all')\n",
    "\n",
    "print(elasticities_market_10)"
   ]
  },
  {
   "cell_type": "markdown",
   "metadata": {},
   "source": [
    "3. In the next question, we are going to free up the substitution pattern by introducing random coefficients as in BLP. Alternatively, we could think about implementing nested logit, the pure characteristics model, or multinomial probit. Would they be appealing in this setting? Why or why not?"
   ]
  },
  {
   "cell_type": "markdown",
   "metadata": {},
   "source": [
    "Para usar o modelo de características puras seria necessário ter os dados da demanda que não estão disponíveis. "
   ]
  },
  {
   "cell_type": "markdown",
   "metadata": {},
   "source": [
    "# 5. Random Coefficient model\n",
    "\n",
    "1. Suppose agents have the following utility function, where i denotes the agent, and j denotes the product: $$u_{ij} = \\underbrace{\\delta_j}_{x'_j-\\alpha p_j+\\xi_j} + \\sum_{k \\in \\{1,2\\}}{\\sigma_k \\nu_{ik} x_{jk} - \\sigma_p \\nu_{ip} p_{j} + \\epsilon_{ij}}$$ where $epsilon_{ij}$ is an iid error following a standard Type-I Extreme Value distribution, and $\\nu_{i,\\cdot} \\overset {iid}\\sim  \\mathcal{N}(0,1)$ is an iid standard normal error. To summarize: the model is as before, but with random coefficients on the constant, the first characteristic, and price. The orthogonality/exogeneity assumptions\n",
    "remain the same as before.\n",
    "\n",
    "1.a. What is the contraction mapping used here for the inner loop? Is there a way to reduce the computational burden from the contraction mapping? (Hint: take a look at page 4 of the appendix to Nevo (2000).) In the following, make sure to set the \"inner tolerance\" level for the contraction mapping very tight, in your final run ideally on the order of $10^{-14}$.\n"
   ]
  },
  {
   "cell_type": "markdown",
   "metadata": {},
   "source": [
    "**Contraction mapping é usado para encontrar a utilidade média $\\delta_j$ correspondente ao marketshare $s_j$ previsto pelo modelo. O modelo assume que as utilidades dos produtos convergirá média, assim podemos prever a utilidade média de um produto no próximo período dentro de uma margem de erro (que nesse caso será de $10^(-14)$).  A fórmula é:**\n",
    "$$\\delta_j^{t+1}= \\delta_j^t + ln(s_j^{obs}) - ln(s_j(\\delta^t,\\theta))$$"
   ]
  },
  {
   "cell_type": "code",
   "execution_count": null,
   "metadata": {},
   "outputs": [
    {
     "name": "stdout",
     "output_type": "stream",
     "text": [
      "Initializing the problem ...\n",
      "Absorbing demand-side fixed effects ...\n",
      "Initialized the problem after 00:00:00.\n",
      "\n",
      "Dimensions:\n",
      "===========================================\n",
      " T    N    F    I     K1    K2    MD    ED \n",
      "---  ---  ---  ----  ----  ----  ----  ----\n",
      "10   247  11   2470   6     7     5     1  \n",
      "===========================================\n",
      "\n",
      "Formulations:\n",
      "======================================================================================\n",
      "       Column Indices:           0       1       2      3       4        5        6   \n",
      "-----------------------------  ------  ------  -----  -----  -------  -------  -------\n",
      " X1: Linear Characteristics    prices  char1   char2  char3  costsh1  costsh2         \n",
      "X2: Nonlinear Characteristics    1     prices  char1  char2   char3   costsh1  costsh2\n",
      "======================================================================================\n",
      "Solving the problem ...\n",
      "\n",
      "Nonlinear Coefficient Initial Values:\n",
      "==============================================================================================================================================================================================================================================================================================================================================\n",
      "Sigma:            1                   prices                char1                 char2                 char3                costsh1               costsh2         |  Sigma Squared:           1                   prices                char1                 char2                 char3                costsh1               costsh2       \n",
      "-------  --------------------  --------------------  --------------------  --------------------  --------------------  --------------------  --------------------  |  --------------  --------------------  --------------------  --------------------  --------------------  --------------------  --------------------  --------------------\n",
      "   1     +1.0000000000000E+00                                                                                                                                      |        1         +1.0000000000000E+00  +1.0000000000000E+00  +1.0000000000000E+00  +1.0000000000000E+00  +1.0000000000000E+00  +1.0000000000000E+00  +1.0000000000000E+00\n",
      "prices   +1.0000000000000E+00  +1.0000000000000E+00                                                                                                                |      prices      +1.0000000000000E+00  +2.0000000000000E+00  +2.0000000000000E+00  +2.0000000000000E+00  +2.0000000000000E+00  +2.0000000000000E+00  +2.0000000000000E+00\n",
      " char1   +1.0000000000000E+00  +1.0000000000000E+00  +1.0000000000000E+00                                                                                          |      char1       +1.0000000000000E+00  +2.0000000000000E+00  +3.0000000000000E+00  +3.0000000000000E+00  +3.0000000000000E+00  +3.0000000000000E+00  +3.0000000000000E+00\n",
      " char2   +1.0000000000000E+00  +1.0000000000000E+00  +1.0000000000000E+00  +1.0000000000000E+00                                                                    |      char2       +1.0000000000000E+00  +2.0000000000000E+00  +3.0000000000000E+00  +4.0000000000000E+00  +4.0000000000000E+00  +4.0000000000000E+00  +4.0000000000000E+00\n",
      " char3   +1.0000000000000E+00  +1.0000000000000E+00  +1.0000000000000E+00  +1.0000000000000E+00  +1.0000000000000E+00                                              |      char3       +1.0000000000000E+00  +2.0000000000000E+00  +3.0000000000000E+00  +4.0000000000000E+00  +5.0000000000000E+00  +5.0000000000000E+00  +5.0000000000000E+00\n",
      "costsh1  +1.0000000000000E+00  +1.0000000000000E+00  +1.0000000000000E+00  +1.0000000000000E+00  +1.0000000000000E+00  +1.0000000000000E+00                        |     costsh1      +1.0000000000000E+00  +2.0000000000000E+00  +3.0000000000000E+00  +4.0000000000000E+00  +5.0000000000000E+00  +6.0000000000000E+00  +6.0000000000000E+00\n",
      "costsh2  +1.0000000000000E+00  +1.0000000000000E+00  +1.0000000000000E+00  +1.0000000000000E+00  +1.0000000000000E+00  +1.0000000000000E+00  +1.0000000000000E+00  |     costsh2      +1.0000000000000E+00  +2.0000000000000E+00  +3.0000000000000E+00  +4.0000000000000E+00  +5.0000000000000E+00  +6.0000000000000E+00  +7.0000000000000E+00\n",
      "==============================================================================================================================================================================================================================================================================================================================================\n",
      "Starting optimization ...\n",
      "\n"
     ]
    },
    {
     "name": "stderr",
     "output_type": "stream",
     "text": [
      "The model may be under-identified. The total number of unfixed parameters is 34, which is more than the total number of moments, 5. Consider checking whether instruments were properly specified when initializing the problem, and whether parameters were properly configured when solving the problem.\n",
      "ERROR:tornado.application:Exception in callback functools.partial(<bound method OutStream._flush of <ipykernel.iostream.OutStream object at 0x7f1096bfb6a0>>)\n",
      "Traceback (most recent call last):\n",
      "  File \"/home/hspassos/anaconda3/envs/blp_python/lib/python3.12/site-packages/tornado/ioloop.py\", line 750, in _run_callback\n",
      "    ret = callback()\n",
      "          ^^^^^^^^^^\n",
      "  File \"/home/hspassos/anaconda3/envs/blp_python/lib/python3.12/site-packages/ipykernel/iostream.py\", line 639, in _flush\n",
      "    msg = self.session.msg(\"stream\", content, parent=parent)\n",
      "          ^^^^^^^^^^^^^^^^^^^^^^^^^^^^^^^^^^^^^^^^^^^^^^^^^^\n",
      "  File \"/home/hspassos/anaconda3/envs/blp_python/lib/python3.12/site-packages/jupyter_client/session.py\", line 661, in msg\n",
      "    header = self.msg_header(msg_type) if header is None else header\n",
      "             ^^^^^^^^^^^^^^^^^^^^^^^^^\n",
      "  File \"/home/hspassos/anaconda3/envs/blp_python/lib/python3.12/site-packages/jupyter_client/session.py\", line 644, in msg_header\n",
      "    return msg_header(self.msg_id, msg_type, self.username, self.session)\n",
      "           ^^^^^^^^^^^^^^^^^^^^^^^^^^^^^^^^^^^^^^^^^^^^^^^^^^^^^^^^^^^^^^\n",
      "  File \"/home/hspassos/anaconda3/envs/blp_python/lib/python3.12/site-packages/jupyter_client/session.py\", line 275, in msg_header\n",
      "    date = utcnow()\n",
      "           ^^^^^^^^\n",
      "  File \"/home/hspassos/anaconda3/envs/blp_python/lib/python3.12/site-packages/jupyter_client/session.py\", line 203, in utcnow\n",
      "    return datetime.utcnow().replace(tzinfo=utc)\n",
      "           ^^^^^^^^^^^^^^^^^\n",
      "DeprecationWarning: datetime.datetime.utcnow() is deprecated and scheduled for removal in a future version. Use timezone-aware objects to represent datetimes in UTC: datetime.datetime.now(datetime.UTC).\n"
     ]
    },
    {
     "name": "stdout",
     "output_type": "stream",
     "text": [
      " 1     00:00:00         0             2           289          874         0     +2.0244918422545E-26  +8.5072820488317E-28  +1.5408216236289E-12  +9.9999999999994E-01, +1.0000000000000E+00, +1.0000000000002E+00, +9.9999999999911E-01, +9.9999999999938E-01, +1.0000000000002E+00, +1.0000000000014E+00, +1.0000000000012E+00, +1.0000000000001E+00, +1.0000000000000E+00, +1.0000000000014E+00, +1.0000000000014E+00, +1.0000000000003E+00, +1.0000000000000E+00, +9.9999999999997E-01, +9.9999999999985E-01, +9.9999999999988E-01, +1.0000000000001E+00, +1.0000000000002E+00, +1.0000000000001E+00, +9.9999999999996E-01, +9.9999999999983E-01, +9.9999999999984E-01, +1.0000000000001E+00, +1.0000000000001E+00, +1.0000000000001E+00, +9.9999999999995E-01, +9.9999999999997E-01\n",
      " 1     00:00:00         0             3           289          878         0     +1.9920805256139E-26  +3.2411316640615E-28  +1.5614458852229E-12  +9.9999999999999E-01, +1.0000000000000E+00, +1.0000000000000E+00, +9.9999999999981E-01, +9.9999999999986E-01, +1.0000000000000E+00, +1.0000000000003E+00, +1.0000000000003E+00, +1.0000000000000E+00, +1.0000000000000E+00, +1.0000000000003E+00, +1.0000000000003E+00, +1.0000000000001E+00, +1.0000000000000E+00, +9.9999999999999E-01, +9.9999999999997E-01, +9.9999999999997E-01, +1.0000000000000E+00, +1.0000000000000E+00, +1.0000000000000E+00, +9.9999999999999E-01, +9.9999999999996E-01, +9.9999999999997E-01, +1.0000000000000E+00, +1.0000000000000E+00, +1.0000000000000E+00, +9.9999999999999E-01, +9.9999999999999E-01\n",
      " 1     00:00:00         1             4           287          871         0     +2.9563479070908E-26                        +1.8955266408674E-12  +9.9999999999999E-01, +1.0000000000000E+00, +1.0000000000000E+00, +9.9999999999981E-01, +9.9999999999986E-01, +1.0000000000000E+00, +1.0000000000003E+00, +1.0000000000003E+00, +1.0000000000000E+00, +1.0000000000000E+00, +1.0000000000003E+00, +1.0000000000003E+00, +1.0000000000001E+00, +1.0000000000000E+00, +9.9999999999999E-01, +9.9999999999997E-01, +9.9999999999997E-01, +1.0000000000000E+00, +1.0000000000000E+00, +1.0000000000000E+00, +9.9999999999999E-01, +9.9999999999996E-01, +9.9999999999997E-01, +1.0000000000000E+00, +1.0000000000000E+00, +1.0000000000000E+00, +9.9999999999999E-01, +9.9999999999999E-01\n",
      " 1     00:00:00         1             5           289          878         0     +1.9920805256139E-26                        +1.5614458852229E-12  +9.9999999999999E-01, +1.0000000000000E+00, +1.0000000000000E+00, +9.9999999999981E-01, +9.9999999999986E-01, +1.0000000000000E+00, +1.0000000000003E+00, +1.0000000000003E+00, +1.0000000000000E+00, +1.0000000000000E+00, +1.0000000000003E+00, +1.0000000000003E+00, +1.0000000000001E+00, +1.0000000000000E+00, +9.9999999999999E-01, +9.9999999999997E-01, +9.9999999999997E-01, +1.0000000000000E+00, +1.0000000000000E+00, +1.0000000000000E+00, +9.9999999999999E-01, +9.9999999999996E-01, +9.9999999999997E-01, +1.0000000000000E+00, +1.0000000000000E+00, +1.0000000000000E+00, +9.9999999999999E-01, +9.9999999999999E-01\n",
      " 1     00:00:00         1             6           287          871         0     +2.9563479070908E-26                        +1.8955266408674E-12  +9.9999999999999E-01, +1.0000000000000E+00, +1.0000000000000E+00, +9.9999999999981E-01, +9.9999999999986E-01, +1.0000000000000E+00, +1.0000000000003E+00, +1.0000000000003E+00, +1.0000000000000E+00, +1.0000000000000E+00, +1.0000000000003E+00, +1.0000000000003E+00, +1.0000000000001E+00, +1.0000000000000E+00, +9.9999999999999E-01, +9.9999999999997E-01, +9.9999999999997E-01, +1.0000000000000E+00, +1.0000000000000E+00, +1.0000000000000E+00, +9.9999999999999E-01, +9.9999999999996E-01, +9.9999999999997E-01, +1.0000000000000E+00, +1.0000000000000E+00, +1.0000000000000E+00, +9.9999999999999E-01, +9.9999999999999E-01\n"
     ]
    },
    {
     "name": "stderr",
     "output_type": "stream",
     "text": [
      "ERROR:tornado.application:Exception in callback functools.partial(<bound method OutStream._flush of <ipykernel.iostream.OutStream object at 0x7f1096bfb6a0>>)\n",
      "Traceback (most recent call last):\n",
      "  File \"/home/hspassos/anaconda3/envs/blp_python/lib/python3.12/site-packages/tornado/ioloop.py\", line 750, in _run_callback\n",
      "    ret = callback()\n",
      "          ^^^^^^^^^^\n",
      "  File \"/home/hspassos/anaconda3/envs/blp_python/lib/python3.12/site-packages/ipykernel/iostream.py\", line 639, in _flush\n",
      "    msg = self.session.msg(\"stream\", content, parent=parent)\n",
      "          ^^^^^^^^^^^^^^^^^^^^^^^^^^^^^^^^^^^^^^^^^^^^^^^^^^\n",
      "  File \"/home/hspassos/anaconda3/envs/blp_python/lib/python3.12/site-packages/jupyter_client/session.py\", line 661, in msg\n",
      "    header = self.msg_header(msg_type) if header is None else header\n",
      "             ^^^^^^^^^^^^^^^^^^^^^^^^^\n",
      "  File \"/home/hspassos/anaconda3/envs/blp_python/lib/python3.12/site-packages/jupyter_client/session.py\", line 644, in msg_header\n",
      "    return msg_header(self.msg_id, msg_type, self.username, self.session)\n",
      "           ^^^^^^^^^^^^^^^^^^^^^^^^^^^^^^^^^^^^^^^^^^^^^^^^^^^^^^^^^^^^^^\n",
      "  File \"/home/hspassos/anaconda3/envs/blp_python/lib/python3.12/site-packages/jupyter_client/session.py\", line 275, in msg_header\n",
      "    date = utcnow()\n",
      "           ^^^^^^^^\n",
      "  File \"/home/hspassos/anaconda3/envs/blp_python/lib/python3.12/site-packages/jupyter_client/session.py\", line 203, in utcnow\n",
      "    return datetime.utcnow().replace(tzinfo=utc)\n",
      "           ^^^^^^^^^^^^^^^^^\n",
      "DeprecationWarning: datetime.datetime.utcnow() is deprecated and scheduled for removal in a future version. Use timezone-aware objects to represent datetimes in UTC: datetime.datetime.now(datetime.UTC).\n"
     ]
    },
    {
     "name": "stdout",
     "output_type": "stream",
     "text": [
      " 1     00:00:00         1             8           286          868         0     +4.2320586612017E-26                        +1.8842642122031E-12  +9.9999999999999E-01, +1.0000000000000E+00, +1.0000000000000E+00, +9.9999999999981E-01, +9.9999999999986E-01, +1.0000000000000E+00, +1.0000000000003E+00, +1.0000000000003E+00, +1.0000000000000E+00, +1.0000000000000E+00, +1.0000000000003E+00, +1.0000000000003E+00, +1.0000000000001E+00, +1.0000000000000E+00, +9.9999999999999E-01, +9.9999999999997E-01, +9.9999999999997E-01, +1.0000000000000E+00, +1.0000000000000E+00, +1.0000000000000E+00, +9.9999999999999E-01, +9.9999999999996E-01, +9.9999999999997E-01, +1.0000000000000E+00, +1.0000000000000E+00, +1.0000000000000E+00, +9.9999999999999E-01, +9.9999999999999E-01\n",
      " 1     00:00:00         1             9           289          878         0     +1.9920805256139E-26                        +1.5614458852229E-12  +9.9999999999999E-01, +1.0000000000000E+00, +1.0000000000000E+00, +9.9999999999981E-01, +9.9999999999986E-01, +1.0000000000000E+00, +1.0000000000003E+00, +1.0000000000003E+00, +1.0000000000000E+00, +1.0000000000000E+00, +1.0000000000003E+00, +1.0000000000003E+00, +1.0000000000001E+00, +1.0000000000000E+00, +9.9999999999999E-01, +9.9999999999997E-01, +9.9999999999997E-01, +1.0000000000000E+00, +1.0000000000000E+00, +1.0000000000000E+00, +9.9999999999999E-01, +9.9999999999996E-01, +9.9999999999997E-01, +1.0000000000000E+00, +1.0000000000000E+00, +1.0000000000000E+00, +9.9999999999999E-01, +9.9999999999999E-01\n",
      "\n",
      "The optimization routine failed to converge. This problem can sometimes be mitigated by choosing more reasonable initial parameter values, setting more conservative bounds, or configuring other optimization settings.\n",
      "\n",
      "\n",
      "Optimization failed after 00:00:03.\n",
      "Computing the Hessian and and updating the weighting matrix ...\n",
      "Computed results after 00:00:13.\n",
      "\n",
      "Problem Results Summary:\n",
      "===========================================================================================================================\n",
      "GMM        Objective              Gradient               Hessian               Hessian        Clipped    Weighting Matrix  \n",
      "Step         Value                  Norm             Min Eigenvalue        Max Eigenvalue     Shares     Condition Number  \n",
      "----  --------------------  --------------------  --------------------  --------------------  -------  --------------------\n",
      " 1    +1.9920805256139E-26  +1.5614458852229E-12  -2.9176296080531E-04  +3.1418709849730E-04     0     +9.1579102736529E+01\n",
      "===========================================================================================================================\n",
      "\n",
      "Starting optimization ...\n",
      "\n",
      "GMM   Computation  Optimization   Objective   Fixed Point  Contraction  Clipped       Objective             Objective              Gradient                                                                                                                                                                                                                                                                                                                                                                                                                                                                                                                                                                                                                                              \n",
      "Step     Time       Iterations   Evaluations  Iterations   Evaluations  Shares          Value              Improvement               Norm                                                                                                                                                                                                                                                                                                                          Theta                                                                                                                                                                                                                                                                                                                 \n",
      "----  -----------  ------------  -----------  -----------  -----------  -------  --------------------  --------------------  --------------------  --------------------------------------------------------------------------------------------------------------------------------------------------------------------------------------------------------------------------------------------------------------------------------------------------------------------------------------------------------------------------------------------------------------------------------------------------------------------------------------------------------------------------------------------------------------------------------------------------------------------------------------\n",
      " 2     00:00:00         0             1            0           11          0     +6.0533391004769E-26                        +4.7124267143486E-13  +9.9999999999999E-01, +1.0000000000000E+00, +1.0000000000000E+00, +9.9999999999981E-01, +9.9999999999986E-01, +1.0000000000000E+00, +1.0000000000003E+00, +1.0000000000003E+00, +1.0000000000000E+00, +1.0000000000000E+00, +1.0000000000003E+00, +1.0000000000003E+00, +1.0000000000001E+00, +1.0000000000000E+00, +9.9999999999999E-01, +9.9999999999997E-01, +9.9999999999997E-01, +1.0000000000000E+00, +1.0000000000000E+00, +1.0000000000000E+00, +9.9999999999999E-01, +9.9999999999996E-01, +9.9999999999997E-01, +1.0000000000000E+00, +1.0000000000000E+00, +1.0000000000000E+00, +9.9999999999999E-01, +9.9999999999999E-01\n",
      " 2     00:00:00         0             2           38           126         0     +3.1247090742030E-26  +2.9286300262740E-26  +4.1981634940432E-13  +9.9999999999998E-01, +9.9999999999963E-01, +9.9999999999957E-01, +9.9999999999949E-01, +9.9999999999967E-01, +1.0000000000001E+00, +1.0000000000001E+00, +9.9999999999995E-01, +9.9999999999998E-01, +9.9999999999965E-01, +1.0000000000005E+00, +1.0000000000005E+00, +1.0000000000001E+00, +1.0000000000000E+00, +9.9999999999990E-01, +1.0000000000001E+00, +1.0000000000001E+00, +9.9999999999997E-01, +1.0000000000000E+00, +1.0000000000000E+00, +1.0000000000000E+00, +9.9999999999995E-01, +9.9999999999995E-01, +1.0000000000001E+00, +1.0000000000000E+00, +1.0000000000001E+00, +1.0000000000000E+00, +9.9999999999998E-01\n",
      " 2     00:00:00         1             3           38           127         0     +5.0124789450571E-26                        +4.9930396810756E-13  +9.9999999999998E-01, +9.9999999999960E-01, +9.9999999999953E-01, +9.9999999999946E-01, +9.9999999999965E-01, +1.0000000000001E+00, +1.0000000000001E+00, +9.9999999999994E-01, +9.9999999999998E-01, +9.9999999999962E-01, +1.0000000000005E+00, +1.0000000000006E+00, +1.0000000000001E+00, +1.0000000000000E+00, +9.9999999999989E-01, +1.0000000000001E+00, +1.0000000000001E+00, +9.9999999999997E-01, +1.0000000000000E+00, +1.0000000000000E+00, +1.0000000000000E+00, +9.9999999999994E-01, +9.9999999999995E-01, +1.0000000000001E+00, +1.0000000000000E+00, +1.0000000000001E+00, +1.0000000000000E+00, +9.9999999999998E-01\n",
      " 2     00:00:00         1             4           37           122         0     +5.5345870726670E-26                        +6.2549288652871E-13  +9.9999999999998E-01, +9.9999999999962E-01, +9.9999999999956E-01, +9.9999999999949E-01, +9.9999999999967E-01, +1.0000000000001E+00, +1.0000000000001E+00, +9.9999999999995E-01, +9.9999999999998E-01, +9.9999999999964E-01, +1.0000000000005E+00, +1.0000000000005E+00, +1.0000000000001E+00, +1.0000000000000E+00, +9.9999999999990E-01, +1.0000000000001E+00, +1.0000000000001E+00, +9.9999999999997E-01, +1.0000000000000E+00, +1.0000000000000E+00, +1.0000000000000E+00, +9.9999999999995E-01, +9.9999999999995E-01, +1.0000000000001E+00, +1.0000000000000E+00, +1.0000000000001E+00, +1.0000000000000E+00, +9.9999999999998E-01\n",
      " 2     00:00:00         1             5           35           118         0     +4.6923353827549E-26                        +4.0255780203410E-13  +9.9999999999998E-01, +9.9999999999963E-01, +9.9999999999957E-01, +9.9999999999949E-01, +9.9999999999967E-01, +1.0000000000001E+00, +1.0000000000001E+00, +9.9999999999995E-01, +9.9999999999998E-01, +9.9999999999965E-01, +1.0000000000005E+00, +1.0000000000005E+00, +1.0000000000001E+00, +1.0000000000000E+00, +9.9999999999990E-01, +1.0000000000001E+00, +1.0000000000001E+00, +9.9999999999997E-01, +1.0000000000000E+00, +1.0000000000000E+00, +1.0000000000000E+00, +9.9999999999995E-01, +9.9999999999995E-01, +1.0000000000001E+00, +1.0000000000000E+00, +1.0000000000001E+00, +1.0000000000000E+00, +9.9999999999998E-01\n"
     ]
    },
    {
     "name": "stderr",
     "output_type": "stream",
     "text": [
      "ERROR:tornado.application:Exception in callback functools.partial(<bound method OutStream._flush of <ipykernel.iostream.OutStream object at 0x7f1096bfb6a0>>)\n",
      "Traceback (most recent call last):\n",
      "  File \"/home/hspassos/anaconda3/envs/blp_python/lib/python3.12/site-packages/tornado/ioloop.py\", line 750, in _run_callback\n",
      "    ret = callback()\n",
      "          ^^^^^^^^^^\n",
      "  File \"/home/hspassos/anaconda3/envs/blp_python/lib/python3.12/site-packages/ipykernel/iostream.py\", line 639, in _flush\n",
      "    msg = self.session.msg(\"stream\", content, parent=parent)\n",
      "          ^^^^^^^^^^^^^^^^^^^^^^^^^^^^^^^^^^^^^^^^^^^^^^^^^^\n",
      "  File \"/home/hspassos/anaconda3/envs/blp_python/lib/python3.12/site-packages/jupyter_client/session.py\", line 661, in msg\n",
      "    header = self.msg_header(msg_type) if header is None else header\n",
      "             ^^^^^^^^^^^^^^^^^^^^^^^^^\n",
      "  File \"/home/hspassos/anaconda3/envs/blp_python/lib/python3.12/site-packages/jupyter_client/session.py\", line 644, in msg_header\n",
      "    return msg_header(self.msg_id, msg_type, self.username, self.session)\n",
      "           ^^^^^^^^^^^^^^^^^^^^^^^^^^^^^^^^^^^^^^^^^^^^^^^^^^^^^^^^^^^^^^\n",
      "  File \"/home/hspassos/anaconda3/envs/blp_python/lib/python3.12/site-packages/jupyter_client/session.py\", line 275, in msg_header\n",
      "    date = utcnow()\n",
      "           ^^^^^^^^\n",
      "  File \"/home/hspassos/anaconda3/envs/blp_python/lib/python3.12/site-packages/jupyter_client/session.py\", line 203, in utcnow\n",
      "    return datetime.utcnow().replace(tzinfo=utc)\n",
      "           ^^^^^^^^^^^^^^^^^\n",
      "DeprecationWarning: datetime.datetime.utcnow() is deprecated and scheduled for removal in a future version. Use timezone-aware objects to represent datetimes in UTC: datetime.datetime.now(datetime.UTC).\n"
     ]
    },
    {
     "name": "stdout",
     "output_type": "stream",
     "text": [
      " 2     00:00:00         1             9           35           119         0     +6.6824555505262E-26                        +4.7097457160500E-13  +9.9999999999998E-01, +9.9999999999962E-01, +9.9999999999956E-01, +9.9999999999949E-01, +9.9999999999967E-01, +1.0000000000001E+00, +1.0000000000001E+00, +9.9999999999995E-01, +9.9999999999998E-01, +9.9999999999964E-01, +1.0000000000005E+00, +1.0000000000005E+00, +1.0000000000001E+00, +1.0000000000000E+00, +9.9999999999990E-01, +1.0000000000001E+00, +1.0000000000001E+00, +9.9999999999997E-01, +1.0000000000000E+00, +1.0000000000000E+00, +1.0000000000000E+00, +9.9999999999995E-01, +9.9999999999995E-01, +1.0000000000001E+00, +1.0000000000000E+00, +1.0000000000001E+00, +1.0000000000000E+00, +9.9999999999998E-01\n",
      " 2     00:00:00         1            10           35           118         0     +6.0963114828689E-26                        +4.3727056907543E-13  +9.9999999999998E-01, +9.9999999999963E-01, +9.9999999999957E-01, +9.9999999999949E-01, +9.9999999999967E-01, +1.0000000000001E+00, +1.0000000000001E+00, +9.9999999999995E-01, +9.9999999999998E-01, +9.9999999999964E-01, +1.0000000000005E+00, +1.0000000000005E+00, +1.0000000000001E+00, +1.0000000000000E+00, +9.9999999999990E-01, +1.0000000000001E+00, +1.0000000000001E+00, +9.9999999999997E-01, +1.0000000000000E+00, +1.0000000000000E+00, +1.0000000000000E+00, +9.9999999999995E-01, +9.9999999999995E-01, +1.0000000000001E+00, +1.0000000000000E+00, +1.0000000000001E+00, +1.0000000000000E+00, +9.9999999999998E-01\n",
      " 2     00:00:00         1            11           36           120         0     +5.3255367199067E-26                        +4.7140564707289E-13  +9.9999999999998E-01, +9.9999999999963E-01, +9.9999999999957E-01, +9.9999999999949E-01, +9.9999999999967E-01, +1.0000000000001E+00, +1.0000000000001E+00, +9.9999999999995E-01, +9.9999999999998E-01, +9.9999999999965E-01, +1.0000000000005E+00, +1.0000000000005E+00, +1.0000000000001E+00, +1.0000000000000E+00, +9.9999999999990E-01, +1.0000000000001E+00, +1.0000000000001E+00, +9.9999999999997E-01, +1.0000000000000E+00, +1.0000000000000E+00, +1.0000000000000E+00, +9.9999999999995E-01, +9.9999999999995E-01, +1.0000000000001E+00, +1.0000000000000E+00, +1.0000000000001E+00, +1.0000000000000E+00, +9.9999999999998E-01\n",
      " 2     00:00:00         1            12           37           124         0     +2.9012006319926E-26  +2.2350844221041E-27  +3.9014494604562E-13  +9.9999999999998E-01, +9.9999999999963E-01, +9.9999999999957E-01, +9.9999999999949E-01, +9.9999999999967E-01, +1.0000000000001E+00, +1.0000000000001E+00, +9.9999999999995E-01, +9.9999999999998E-01, +9.9999999999965E-01, +1.0000000000005E+00, +1.0000000000005E+00, +1.0000000000001E+00, +1.0000000000000E+00, +9.9999999999990E-01, +1.0000000000001E+00, +1.0000000000001E+00, +9.9999999999997E-01, +1.0000000000000E+00, +1.0000000000000E+00, +1.0000000000000E+00, +9.9999999999995E-01, +9.9999999999995E-01, +1.0000000000001E+00, +1.0000000000000E+00, +1.0000000000001E+00, +1.0000000000000E+00, +9.9999999999998E-01\n",
      " 2     00:00:00         1            13           37           124         0     +6.2098836161097E-26                        +4.2781604140423E-13  +9.9999999999998E-01, +9.9999999999963E-01, +9.9999999999957E-01, +9.9999999999949E-01, +9.9999999999967E-01, +1.0000000000001E+00, +1.0000000000001E+00, +9.9999999999995E-01, +9.9999999999998E-01, +9.9999999999965E-01, +1.0000000000005E+00, +1.0000000000005E+00, +1.0000000000001E+00, +1.0000000000000E+00, +9.9999999999990E-01, +1.0000000000001E+00, +1.0000000000001E+00, +9.9999999999997E-01, +1.0000000000000E+00, +1.0000000000000E+00, +1.0000000000000E+00, +9.9999999999995E-01, +9.9999999999995E-01, +1.0000000000001E+00, +1.0000000000000E+00, +1.0000000000001E+00, +1.0000000000000E+00, +9.9999999999998E-01\n",
      " 2     00:00:00         1            14           38           126         0     +4.7389390548980E-26                        +4.8196706324669E-13  +9.9999999999998E-01, +9.9999999999963E-01, +9.9999999999957E-01, +9.9999999999949E-01, +9.9999999999967E-01, +1.0000000000001E+00, +1.0000000000001E+00, +9.9999999999995E-01, +9.9999999999998E-01, +9.9999999999965E-01, +1.0000000000005E+00, +1.0000000000005E+00, +1.0000000000001E+00, +1.0000000000000E+00, +9.9999999999990E-01, +1.0000000000001E+00, +1.0000000000001E+00, +9.9999999999997E-01, +1.0000000000000E+00, +1.0000000000000E+00, +1.0000000000000E+00, +9.9999999999995E-01, +9.9999999999995E-01, +1.0000000000001E+00, +1.0000000000000E+00, +1.0000000000001E+00, +1.0000000000000E+00, +9.9999999999998E-01\n",
      " 2     00:00:00         1            15           37           120         0     +4.5780218133173E-26                        +4.9812354105641E-13  +9.9999999999998E-01, +9.9999999999963E-01, +9.9999999999957E-01, +9.9999999999949E-01, +9.9999999999967E-01, +1.0000000000001E+00, +1.0000000000001E+00, +9.9999999999995E-01, +9.9999999999998E-01, +9.9999999999965E-01, +1.0000000000005E+00, +1.0000000000005E+00, +1.0000000000001E+00, +1.0000000000000E+00, +9.9999999999990E-01, +1.0000000000001E+00, +1.0000000000001E+00, +9.9999999999997E-01, +1.0000000000000E+00, +1.0000000000000E+00, +1.0000000000000E+00, +9.9999999999995E-01, +9.9999999999995E-01, +1.0000000000001E+00, +1.0000000000000E+00, +1.0000000000001E+00, +1.0000000000000E+00, +9.9999999999998E-01\n",
      " 2     00:00:00         1            16           38           127         0     +3.6733960938338E-26                        +3.3692719887678E-13  +9.9999999999998E-01, +9.9999999999963E-01, +9.9999999999957E-01, +9.9999999999949E-01, +9.9999999999967E-01, +1.0000000000001E+00, +1.0000000000001E+00, +9.9999999999995E-01, +9.9999999999998E-01, +9.9999999999965E-01, +1.0000000000005E+00, +1.0000000000005E+00, +1.0000000000001E+00, +1.0000000000000E+00, +9.9999999999990E-01, +1.0000000000001E+00, +1.0000000000001E+00, +9.9999999999997E-01, +1.0000000000000E+00, +1.0000000000000E+00, +1.0000000000000E+00, +9.9999999999995E-01, +9.9999999999995E-01, +1.0000000000001E+00, +1.0000000000000E+00, +1.0000000000001E+00, +1.0000000000000E+00, +9.9999999999998E-01\n",
      " 2     00:00:00         1            17           35           119         0     +6.4893051219192E-26                        +5.1985858289360E-13  +9.9999999999998E-01, +9.9999999999963E-01, +9.9999999999957E-01, +9.9999999999949E-01, +9.9999999999967E-01, +1.0000000000001E+00, +1.0000000000001E+00, +9.9999999999995E-01, +9.9999999999998E-01, +9.9999999999965E-01, +1.0000000000005E+00, +1.0000000000005E+00, +1.0000000000001E+00, +1.0000000000000E+00, +9.9999999999990E-01, +1.0000000000001E+00, +1.0000000000001E+00, +9.9999999999997E-01, +1.0000000000000E+00, +1.0000000000000E+00, +1.0000000000000E+00, +9.9999999999995E-01, +9.9999999999995E-01, +1.0000000000001E+00, +1.0000000000000E+00, +1.0000000000001E+00, +1.0000000000000E+00, +9.9999999999998E-01\n",
      "\n",
      "The optimization routine failed to converge. This problem can sometimes be mitigated by choosing more reasonable initial parameter values, setting more conservative bounds, or configuring other optimization settings.\n",
      "\n",
      "\n",
      "Optimization failed after 00:00:02.\n",
      "Computing the Hessian and estimating standard errors ...\n",
      "Computed results after 00:00:11.\n",
      "\n",
      "Problem Results Summary:\n",
      "=================================================================================================================================================\n",
      "GMM        Objective              Gradient               Hessian               Hessian        Clipped    Weighting Matrix     Covariance Matrix  \n",
      "Step         Value                  Norm             Min Eigenvalue        Max Eigenvalue     Shares     Condition Number      Condition Number  \n",
      "----  --------------------  --------------------  --------------------  --------------------  -------  --------------------  --------------------\n",
      " 2    +3.1247090742030E-26  +4.1981634940432E-13  -6.4693617698989E-05  +7.1284129245656E-05     0     +6.2384331654490E+02  +8.5572903008789E+19\n",
      "=================================================================================================================================================\n",
      "\n",
      "Cumulative Statistics:\n",
      "===========================================================================\n",
      "Computation  Optimizer  Optimization   Objective   Fixed Point  Contraction\n",
      "   Time      Converged   Iterations   Evaluations  Iterations   Evaluations\n",
      "-----------  ---------  ------------  -----------  -----------  -----------\n",
      " 00:00:29       No           2            28          3510         10852   \n",
      "===========================================================================\n",
      "\n",
      "Nonlinear Coefficient Estimates (Robust SEs in Parentheses):\n",
      "==========================================================================================================================================================================================================================================================================================================================================================================\n",
      "Sigma:             1                     prices                  char1                   char2                   char3                  costsh1                 costsh2          |  Sigma Squared:            1                     prices                  char1                   char2                   char3                  costsh1                 costsh2        \n",
      "-------  ----------------------  ----------------------  ----------------------  ----------------------  ----------------------  ----------------------  ----------------------  |  --------------  ----------------------  ----------------------  ----------------------  ----------------------  ----------------------  ----------------------  ----------------------\n",
      "   1      +9.9999999999998E-01                                                                                                                                                   |        1          +9.9999999999997E-01    +9.9999999999961E-01    +9.9999999999947E-01    +1.0000000000001E+00    +1.0000000000005E+00    +1.0000000000001E+00    +9.9999999999993E-01 \n",
      "         (+2.5646592826311E-03)                                                                                                                                                  |                  (+5.1293185652622E-03)  (+1.3207545868449E-01)  (+1.5058832748724E-01)  (+8.9404092204642E-02)  (+9.3373440200829E-02)  (+1.7107045772261E-01)  (+2.6340767802889E-01)\n",
      "                                                                                                                                                                                 |                                                                                                                                                                                        \n",
      "prices    +9.9999999999963E-01    +9.9999999999957E-01                                                                                                                           |      prices       +9.9999999999961E-01    +1.9999999999984E+00    +1.9999999999984E+00    +1.9999999999993E+00    +2.0000000000003E+00    +1.9999999999994E+00    +1.9999999999991E+00 \n",
      "         (+1.3184999792281E-01)  (+1.3991843509955E-01)                                                                                                                          |                  (+1.3207545868449E-01)  (+5.3590031997448E-01)  (+3.8885552172465E-01)  (+4.3424917372389E-01)  (+2.1839917494496E-01)  (+5.1392529984977E-01)  (+4.8697033740639E-01)\n",
      "                                                                                                                                                                                 |                                                                                                                                                                                        \n",
      " char1    +9.9999999999949E-01    +9.9999999999967E-01    +1.0000000000001E+00                                                                                                   |      char1        +9.9999999999947E-01    +1.9999999999984E+00    +2.9999999999985E+00    +2.9999999999993E+00    +3.0000000000004E+00    +2.9999999999994E+00    +2.9999999999992E+00 \n",
      "         (+1.4880232509789E-01)  (+8.0273493684577E-02)  (+9.4414289766014E-02)                                                                                                  |                  (+1.5058832748724E-01)  (+3.8885552172465E-01)  (+3.6269074507471E-01)  (+3.8084105778425E-01)  (+2.8790374275702E-01)  (+2.3897977261083E-01)  (+5.0303961256615E-01)\n",
      "                                                                                                                                                                                 |                                                                                                                                                                                        \n",
      " char2    +1.0000000000001E+00    +9.9999999999995E-01    +9.9999999999998E-01    +9.9999999999965E-01                                                                           |      char2        +1.0000000000001E+00    +1.9999999999993E+00    +2.9999999999993E+00    +3.9999999999994E+00    +4.0000000000008E+00    +3.9999999999998E+00    +3.9999999999997E+00 \n",
      "         (+8.7941082407489E-02)  (+1.4071118102061E-01)  (+4.2451382594656E-02)  (+1.3039574930044E-01)                                                                          |                  (+8.9404092204642E-02)  (+4.3424917372389E-01)  (+3.8084105778425E-01)  (+7.3633613361793E-01)  (+2.4854032239524E-01)  (+4.8473258216525E-01)  (+4.4218389501217E-01)\n",
      "                                                                                                                                                                                 |                                                                                                                                                                                        \n",
      " char3    +1.0000000000005E+00    +1.0000000000005E+00    +1.0000000000001E+00    +1.0000000000000E+00    +9.9999999999990E-01                                                   |      char3        +1.0000000000005E+00    +2.0000000000003E+00    +3.0000000000004E+00    +4.0000000000008E+00    +5.0000000000021E+00    +5.0000000000012E+00    +5.0000000000011E+00 \n",
      "         (+9.5426665448296E-02)  (+1.1099111604828E-01)  (+1.6537543482697E-01)  (+1.3255442181497E-01)  (+7.5283353952592E-02)                                                  |                  (+9.3373440200829E-02)  (+2.1839917494496E-01)  (+2.8790374275702E-01)  (+2.4854032239524E-01)  (+9.7494536173366E-01)  (+5.5271441003316E-01)  (+9.4982228556229E-01)\n",
      "                                                                                                                                                                                 |                                                                                                                                                                                        \n",
      "costsh1   +1.0000000000001E+00    +1.0000000000001E+00    +9.9999999999997E-01    +1.0000000000000E+00    +1.0000000000000E+00    +1.0000000000000E+00                           |     costsh1       +1.0000000000001E+00    +1.9999999999994E+00    +2.9999999999994E+00    +3.9999999999998E+00    +5.0000000000012E+00    +6.0000000000003E+00    +6.0000000000002E+00 \n",
      "         (+1.7209551147330E-01)  (+1.6301684701002E-01)  (+2.0104049049979E-02)  (+3.1957990853817E-02)  (+1.7559969886542E-02)  (+1.3298527238005E-02)                          |                  (+1.7107045772261E-01)  (+5.1392529984977E-01)  (+2.3897977261083E-01)  (+4.8473258216525E-01)  (+5.5271441003316E-01)  (+6.2362815988359E-01)  (+4.5250014100917E-01)\n",
      "                                                                                                                                                                                 |                                                                                                                                                                                        \n",
      "costsh2   +9.9999999999995E-01    +9.9999999999995E-01    +1.0000000000001E+00    +1.0000000000000E+00    +1.0000000000001E+00    +1.0000000000000E+00    +9.9999999999998E-01   |     costsh2       +9.9999999999993E-01    +1.9999999999991E+00    +2.9999999999992E+00    +3.9999999999997E+00    +5.0000000000011E+00    +6.0000000000002E+00    +7.0000000000000E+00 \n",
      "         (+2.6398477796815E-01)  (+2.4699729656152E-01)  (+1.2703129848035E-02)  (+1.6743589140495E-02)  (+2.4658442430366E-02)  (+1.1503218110289E-02)  (+2.3565435220409E-02)  |                  (+2.6340767802889E-01)  (+4.8697033740639E-01)  (+5.0303961256615E-01)  (+4.4218389501217E-01)  (+9.4982228556229E-01)  (+4.5250014100917E-01)  (+1.0570647756308E+00)\n",
      "==========================================================================================================================================================================================================================================================================================================================================================================\n",
      "\n",
      "Beta Estimates (Robust SEs in Parentheses):\n",
      "==============================================================================================================================================\n",
      "        prices                  char1                   char2                   char3                  costsh1                 costsh2        \n",
      "----------------------  ----------------------  ----------------------  ----------------------  ----------------------  ----------------------\n",
      " -4.1707432781090E+00    -3.2391633241385E-02    -5.5085591957456E-01    -5.6303480514095E-01    -2.1522577797152E+00    -2.8679942066731E+00 \n",
      "(+1.4491747153455E-01)  (+1.7680611626277E-01)  (+1.8504052281318E-01)  (+1.5484102168733E-01)  (+2.4464903720885E-01)  (+3.8605561201587E-01)\n",
      "==============================================================================================================================================\n"
     ]
    },
    {
     "data": {
      "text/plain": [
       "Problem Results Summary:\n",
       "=================================================================================================================================================\n",
       "GMM        Objective              Gradient               Hessian               Hessian        Clipped    Weighting Matrix     Covariance Matrix  \n",
       "Step         Value                  Norm             Min Eigenvalue        Max Eigenvalue     Shares     Condition Number      Condition Number  \n",
       "----  --------------------  --------------------  --------------------  --------------------  -------  --------------------  --------------------\n",
       " 2    +3.1247090742030E-26  +4.1981634940432E-13  -6.4693617698989E-05  +7.1284129245656E-05     0     +6.2384331654490E+02  +8.5572903008789E+19\n",
       "=================================================================================================================================================\n",
       "\n",
       "Cumulative Statistics:\n",
       "===========================================================================\n",
       "Computation  Optimizer  Optimization   Objective   Fixed Point  Contraction\n",
       "   Time      Converged   Iterations   Evaluations  Iterations   Evaluations\n",
       "-----------  ---------  ------------  -----------  -----------  -----------\n",
       " 00:00:29       No           2            28          3510         10852   \n",
       "===========================================================================\n",
       "\n",
       "Nonlinear Coefficient Estimates (Robust SEs in Parentheses):\n",
       "==========================================================================================================================================================================================================================================================================================================================================================================\n",
       "Sigma:             1                     prices                  char1                   char2                   char3                  costsh1                 costsh2          |  Sigma Squared:            1                     prices                  char1                   char2                   char3                  costsh1                 costsh2        \n",
       "-------  ----------------------  ----------------------  ----------------------  ----------------------  ----------------------  ----------------------  ----------------------  |  --------------  ----------------------  ----------------------  ----------------------  ----------------------  ----------------------  ----------------------  ----------------------\n",
       "   1      +9.9999999999998E-01                                                                                                                                                   |        1          +9.9999999999997E-01    +9.9999999999961E-01    +9.9999999999947E-01    +1.0000000000001E+00    +1.0000000000005E+00    +1.0000000000001E+00    +9.9999999999993E-01 \n",
       "         (+2.5646592826311E-03)                                                                                                                                                  |                  (+5.1293185652622E-03)  (+1.3207545868449E-01)  (+1.5058832748724E-01)  (+8.9404092204642E-02)  (+9.3373440200829E-02)  (+1.7107045772261E-01)  (+2.6340767802889E-01)\n",
       "                                                                                                                                                                                 |                                                                                                                                                                                        \n",
       "prices    +9.9999999999963E-01    +9.9999999999957E-01                                                                                                                           |      prices       +9.9999999999961E-01    +1.9999999999984E+00    +1.9999999999984E+00    +1.9999999999993E+00    +2.0000000000003E+00    +1.9999999999994E+00    +1.9999999999991E+00 \n",
       "         (+1.3184999792281E-01)  (+1.3991843509955E-01)                                                                                                                          |                  (+1.3207545868449E-01)  (+5.3590031997448E-01)  (+3.8885552172465E-01)  (+4.3424917372389E-01)  (+2.1839917494496E-01)  (+5.1392529984977E-01)  (+4.8697033740639E-01)\n",
       "                                                                                                                                                                                 |                                                                                                                                                                                        \n",
       " char1    +9.9999999999949E-01    +9.9999999999967E-01    +1.0000000000001E+00                                                                                                   |      char1        +9.9999999999947E-01    +1.9999999999984E+00    +2.9999999999985E+00    +2.9999999999993E+00    +3.0000000000004E+00    +2.9999999999994E+00    +2.9999999999992E+00 \n",
       "         (+1.4880232509789E-01)  (+8.0273493684577E-02)  (+9.4414289766014E-02)                                                                                                  |                  (+1.5058832748724E-01)  (+3.8885552172465E-01)  (+3.6269074507471E-01)  (+3.8084105778425E-01)  (+2.8790374275702E-01)  (+2.3897977261083E-01)  (+5.0303961256615E-01)\n",
       "                                                                                                                                                                                 |                                                                                                                                                                                        \n",
       " char2    +1.0000000000001E+00    +9.9999999999995E-01    +9.9999999999998E-01    +9.9999999999965E-01                                                                           |      char2        +1.0000000000001E+00    +1.9999999999993E+00    +2.9999999999993E+00    +3.9999999999994E+00    +4.0000000000008E+00    +3.9999999999998E+00    +3.9999999999997E+00 \n",
       "         (+8.7941082407489E-02)  (+1.4071118102061E-01)  (+4.2451382594656E-02)  (+1.3039574930044E-01)                                                                          |                  (+8.9404092204642E-02)  (+4.3424917372389E-01)  (+3.8084105778425E-01)  (+7.3633613361793E-01)  (+2.4854032239524E-01)  (+4.8473258216525E-01)  (+4.4218389501217E-01)\n",
       "                                                                                                                                                                                 |                                                                                                                                                                                        \n",
       " char3    +1.0000000000005E+00    +1.0000000000005E+00    +1.0000000000001E+00    +1.0000000000000E+00    +9.9999999999990E-01                                                   |      char3        +1.0000000000005E+00    +2.0000000000003E+00    +3.0000000000004E+00    +4.0000000000008E+00    +5.0000000000021E+00    +5.0000000000012E+00    +5.0000000000011E+00 \n",
       "         (+9.5426665448296E-02)  (+1.1099111604828E-01)  (+1.6537543482697E-01)  (+1.3255442181497E-01)  (+7.5283353952592E-02)                                                  |                  (+9.3373440200829E-02)  (+2.1839917494496E-01)  (+2.8790374275702E-01)  (+2.4854032239524E-01)  (+9.7494536173366E-01)  (+5.5271441003316E-01)  (+9.4982228556229E-01)\n",
       "                                                                                                                                                                                 |                                                                                                                                                                                        \n",
       "costsh1   +1.0000000000001E+00    +1.0000000000001E+00    +9.9999999999997E-01    +1.0000000000000E+00    +1.0000000000000E+00    +1.0000000000000E+00                           |     costsh1       +1.0000000000001E+00    +1.9999999999994E+00    +2.9999999999994E+00    +3.9999999999998E+00    +5.0000000000012E+00    +6.0000000000003E+00    +6.0000000000002E+00 \n",
       "         (+1.7209551147330E-01)  (+1.6301684701002E-01)  (+2.0104049049979E-02)  (+3.1957990853817E-02)  (+1.7559969886542E-02)  (+1.3298527238005E-02)                          |                  (+1.7107045772261E-01)  (+5.1392529984977E-01)  (+2.3897977261083E-01)  (+4.8473258216525E-01)  (+5.5271441003316E-01)  (+6.2362815988359E-01)  (+4.5250014100917E-01)\n",
       "                                                                                                                                                                                 |                                                                                                                                                                                        \n",
       "costsh2   +9.9999999999995E-01    +9.9999999999995E-01    +1.0000000000001E+00    +1.0000000000000E+00    +1.0000000000001E+00    +1.0000000000000E+00    +9.9999999999998E-01   |     costsh2       +9.9999999999993E-01    +1.9999999999991E+00    +2.9999999999992E+00    +3.9999999999997E+00    +5.0000000000011E+00    +6.0000000000002E+00    +7.0000000000000E+00 \n",
       "         (+2.6398477796815E-01)  (+2.4699729656152E-01)  (+1.2703129848035E-02)  (+1.6743589140495E-02)  (+2.4658442430366E-02)  (+1.1503218110289E-02)  (+2.3565435220409E-02)  |                  (+2.6340767802889E-01)  (+4.8697033740639E-01)  (+5.0303961256615E-01)  (+4.4218389501217E-01)  (+9.4982228556229E-01)  (+4.5250014100917E-01)  (+1.0570647756308E+00)\n",
       "==========================================================================================================================================================================================================================================================================================================================================================================\n",
       "\n",
       "Beta Estimates (Robust SEs in Parentheses):\n",
       "==============================================================================================================================================\n",
       "        prices                  char1                   char2                   char3                  costsh1                 costsh2        \n",
       "----------------------  ----------------------  ----------------------  ----------------------  ----------------------  ----------------------\n",
       " -4.1707432781090E+00    -3.2391633241385E-02    -5.5085591957456E-01    -5.6303480514095E-01    -2.1522577797152E+00    -2.8679942066731E+00 \n",
       "(+1.4491747153455E-01)  (+1.7680611626277E-01)  (+1.8504052281318E-01)  (+1.5484102168733E-01)  (+2.4464903720885E-01)  (+3.8605561201587E-01)\n",
       "=============================================================================================================================================="
      ]
     },
     "execution_count": 160,
     "metadata": {},
     "output_type": "execute_result"
    }
   ],
   "source": [
    "X1_formulation = pyblp.Formulation('1 + prices + char1 + char2 + char3 + costsh1 + costsh2', absorb='C(market_ids)')\n",
    "X2_formulation = pyblp.Formulation('1 + prices + char1 + char2 + char3 + costsh1 + costsh2')\n",
    "product_formulations = (X1_formulation, X2_formulation)\n",
    "\n",
    "mc_integration = pyblp.Integration('monte_carlo', size=247, specification_options={'seed': 0})\n",
    "mc_problem = pyblp.Problem(product_formulations, data, integration=mc_integration)\n",
    "bfgs = pyblp.Optimization('bfgs', {'gtol': 1e-14})\n",
    "\n",
    "results1 = mc_problem.solve(sigma=np.ones((7, 7)), optimization=bfgs)\n",
    "results1\n",
    "\n",
    "results2 = mc_problem.solve(sigma=np.eye(7), optimization=bfgs)\n",
    "results2\n"
   ]
  },
  {
   "cell_type": "code",
   "execution_count": 161,
   "metadata": {},
   "outputs": [
    {
     "name": "stdout",
     "output_type": "stream",
     "text": [
      "Solving the problem ...\n",
      "\n",
      "Nonlinear Coefficient Initial Values:\n",
      "=================================================================================================================================================================\n",
      "Sigma:            1                   prices                char1                 char2                 char3                costsh1               costsh2       \n",
      "-------  --------------------  --------------------  --------------------  --------------------  --------------------  --------------------  --------------------\n",
      "   1     +1.0000000000000E+00                                                                                                                                    \n",
      "prices   +0.0000000000000E+00  +1.0000000000000E+00                                                                                                              \n",
      " char1   +0.0000000000000E+00  +0.0000000000000E+00  +1.0000000000000E+00                                                                                        \n",
      " char2   +0.0000000000000E+00  +0.0000000000000E+00  +0.0000000000000E+00  +1.0000000000000E+00                                                                  \n",
      " char3   +0.0000000000000E+00  +0.0000000000000E+00  +0.0000000000000E+00  +0.0000000000000E+00  +1.0000000000000E+00                                            \n",
      "costsh1  +0.0000000000000E+00  +0.0000000000000E+00  +0.0000000000000E+00  +0.0000000000000E+00  +0.0000000000000E+00  +1.0000000000000E+00                      \n",
      "costsh2  +0.0000000000000E+00  +0.0000000000000E+00  +0.0000000000000E+00  +0.0000000000000E+00  +0.0000000000000E+00  +0.0000000000000E+00  +1.0000000000000E+00\n",
      "=================================================================================================================================================================\n",
      "\n",
      "Nonlinear Coefficient Lower Bounds:\n",
      "=================================================================================================================================================================\n",
      "Sigma:            1                   prices                char1                 char2                 char3                costsh1               costsh2       \n",
      "-------  --------------------  --------------------  --------------------  --------------------  --------------------  --------------------  --------------------\n",
      "   1             -INF                                                                                                                                            \n",
      "prices   +0.0000000000000E+00          -INF                                                                                                                      \n",
      " char1   +0.0000000000000E+00  +0.0000000000000E+00          -INF                                                                                                \n",
      " char2   +0.0000000000000E+00  +0.0000000000000E+00  +0.0000000000000E+00          -INF                                                                          \n",
      " char3   +0.0000000000000E+00  +0.0000000000000E+00  +0.0000000000000E+00  +0.0000000000000E+00          -INF                                                    \n",
      "costsh1  +0.0000000000000E+00  +0.0000000000000E+00  +0.0000000000000E+00  +0.0000000000000E+00  +0.0000000000000E+00          -INF                              \n",
      "costsh2  +0.0000000000000E+00  +0.0000000000000E+00  +0.0000000000000E+00  +0.0000000000000E+00  +0.0000000000000E+00  +0.0000000000000E+00          -INF        \n",
      "=================================================================================================================================================================\n",
      "\n",
      "Nonlinear Coefficient Upper Bounds:\n",
      "=================================================================================================================================================================\n",
      "Sigma:            1                   prices                char1                 char2                 char3                costsh1               costsh2       \n",
      "-------  --------------------  --------------------  --------------------  --------------------  --------------------  --------------------  --------------------\n",
      "   1             +INF                                                                                                                                            \n",
      "prices   +0.0000000000000E+00          +INF                                                                                                                      \n",
      " char1   +0.0000000000000E+00  +0.0000000000000E+00          +INF                                                                                                \n",
      " char2   +0.0000000000000E+00  +0.0000000000000E+00  +0.0000000000000E+00          +INF                                                                          \n",
      " char3   +0.0000000000000E+00  +0.0000000000000E+00  +0.0000000000000E+00  +0.0000000000000E+00          +INF                                                    \n",
      "costsh1  +0.0000000000000E+00  +0.0000000000000E+00  +0.0000000000000E+00  +0.0000000000000E+00  +0.0000000000000E+00          +INF                              \n",
      "costsh2  +0.0000000000000E+00  +0.0000000000000E+00  +0.0000000000000E+00  +0.0000000000000E+00  +0.0000000000000E+00  +0.0000000000000E+00          +INF        \n",
      "=================================================================================================================================================================\n",
      "\n",
      "Starting optimization ...\n",
      "\n"
     ]
    },
    {
     "name": "stderr",
     "output_type": "stream",
     "text": [
      "The model may be under-identified. The total number of unfixed parameters is 13, which is more than the total number of moments, 5. Consider checking whether instruments were properly specified when initializing the problem, and whether parameters were properly configured when solving the problem.\n"
     ]
    },
    {
     "name": "stdout",
     "output_type": "stream",
     "text": [
      "GMM   Computation  Optimization   Objective   Fixed Point  Contraction  Clipped       Objective             Objective              Gradient                                                                                                                                                                \n",
      "Step     Time       Iterations   Evaluations  Iterations   Evaluations  Shares          Value              Improvement               Norm                                                                                   Theta                                                                          \n",
      "----  -----------  ------------  -----------  -----------  -----------  -------  --------------------  --------------------  --------------------  --------------------------------------------------------------------------------------------------------------------------------------------------------\n",
      " 1     00:00:00         0             1           152          466         0     +8.9635197677287E-27                        +3.7197706976986E-13  +1.0000000000000E+00, +1.0000000000000E+00, +1.0000000000000E+00, +1.0000000000000E+00, +1.0000000000000E+00, +1.0000000000000E+00, +1.0000000000000E+00\n",
      " 1     00:00:00         0             2           153          466         0     +1.1365907480957E-26                        +2.4272527585076E-13  +9.9999999999999E-01, +9.9999999999963E-01, +9.9999999999973E-01, +1.0000000000002E+00, +1.0000000000000E+00, +9.9999999999999E-01, +9.9999999999999E-01\n",
      " 1     00:00:00         0             3           151          464         0     +1.0669137757789E-26                        +3.0739409171452E-13  +1.0000000000000E+00, +9.9999999999991E-01, +9.9999999999994E-01, +1.0000000000001E+00, +1.0000000000000E+00, +1.0000000000000E+00, +1.0000000000000E+00\n",
      " 1     00:00:00         0             4           152          465         0     +1.2301786229545E-26                        +3.1210840751105E-13  +1.0000000000000E+00, +9.9999999999998E-01, +9.9999999999999E-01, +1.0000000000000E+00, +1.0000000000000E+00, +1.0000000000000E+00, +1.0000000000000E+00\n",
      " 1     00:00:00         0             5           151          463         0     +1.0095763037280E-26                        +3.4684848159347E-13  +1.0000000000000E+00, +1.0000000000000E+00, +1.0000000000000E+00, +1.0000000000000E+00, +1.0000000000000E+00, +1.0000000000000E+00, +1.0000000000000E+00\n",
      " 1     00:00:00         0             6           152          465         0     +9.3494129523740E-27                        +2.1150956344006E-13  +1.0000000000000E+00, +1.0000000000000E+00, +1.0000000000000E+00, +1.0000000000000E+00, +1.0000000000000E+00, +1.0000000000000E+00, +1.0000000000000E+00\n",
      " 1     00:00:00         0             7           153          466         0     +1.1917740463648E-26                        +5.5019121699312E-13  +1.0000000000000E+00, +1.0000000000000E+00, +1.0000000000000E+00, +1.0000000000000E+00, +1.0000000000000E+00, +1.0000000000000E+00, +1.0000000000000E+00\n",
      " 1     00:00:00         0             8           152          466         0     +8.9635197677287E-27                        +3.7197706976986E-13  +1.0000000000000E+00, +1.0000000000000E+00, +1.0000000000000E+00, +1.0000000000000E+00, +1.0000000000000E+00, +1.0000000000000E+00, +1.0000000000000E+00\n",
      " 1     00:00:00         0             9           153          466         0     +1.1365907480957E-26                        +2.4272527585076E-13  +9.9999999999999E-01, +9.9999999999963E-01, +9.9999999999973E-01, +1.0000000000002E+00, +1.0000000000000E+00, +9.9999999999999E-01, +9.9999999999999E-01\n",
      " 1     00:00:00         0            10           151          465         0     +1.3217532034510E-26                        +5.0285435273880E-13  +9.9999999999999E-01, +9.9999999999982E-01, +9.9999999999987E-01, +1.0000000000001E+00, +1.0000000000000E+00, +9.9999999999999E-01, +1.0000000000000E+00\n",
      " 1     00:00:00         0            11           151          464         0     +1.3637691107537E-26                        +3.6957567372597E-13  +1.0000000000000E+00, +9.9999999999993E-01, +9.9999999999995E-01, +1.0000000000000E+00, +1.0000000000000E+00, +1.0000000000000E+00, +1.0000000000000E+00\n",
      " 1     00:00:00         0            12           151          462         0     +1.0648897140064E-26                        +4.2098003357311E-13  +1.0000000000000E+00, +9.9999999999997E-01, +9.9999999999998E-01, +1.0000000000000E+00, +1.0000000000000E+00, +1.0000000000000E+00, +1.0000000000000E+00\n",
      " 1     00:00:00         0            13           152          466         0     +9.5215733570783E-27                        +2.2724792234986E-13  +1.0000000000000E+00, +9.9999999999999E-01, +9.9999999999999E-01, +1.0000000000000E+00, +1.0000000000000E+00, +1.0000000000000E+00, +1.0000000000000E+00\n",
      " 1     00:00:00         0            14           152          464         0     +1.2693895229871E-26                        +3.6955743320319E-13  +1.0000000000000E+00, +1.0000000000000E+00, +1.0000000000000E+00, +1.0000000000000E+00, +1.0000000000000E+00, +1.0000000000000E+00, +1.0000000000000E+00\n",
      " 1     00:00:00         0            15           153          466         0     +7.7899683121292E-27  +1.1735514555995E-27  +1.9191466875898E-13  +1.0000000000000E+00, +1.0000000000000E+00, +1.0000000000000E+00, +1.0000000000000E+00, +1.0000000000000E+00, +1.0000000000000E+00, +1.0000000000000E+00\n",
      " 1     00:00:00         1            16           152          465         0     +1.0139815249664E-26                        +4.4672412659205E-13  +1.0000000000000E+00, +1.0000000000000E+00, +1.0000000000000E+00, +1.0000000000000E+00, +1.0000000000000E+00, +1.0000000000000E+00, +1.0000000000000E+00\n",
      " 1     00:00:00         1            17           152          465         0     +8.1821715010909E-27                        +1.6223262548003E-13  +1.0000000000000E+00, +1.0000000000000E+00, +1.0000000000000E+00, +1.0000000000000E+00, +1.0000000000000E+00, +1.0000000000000E+00, +1.0000000000000E+00\n",
      " 1     00:00:00         1            18           153          466         0     +7.7899683121292E-27                        +1.9191466875898E-13  +1.0000000000000E+00, +1.0000000000000E+00, +1.0000000000000E+00, +1.0000000000000E+00, +1.0000000000000E+00, +1.0000000000000E+00, +1.0000000000000E+00\n",
      " 1     00:00:00         1            19           152          465         0     +1.0139815249664E-26                        +4.4672412659205E-13  +1.0000000000000E+00, +1.0000000000000E+00, +1.0000000000000E+00, +1.0000000000000E+00, +1.0000000000000E+00, +1.0000000000000E+00, +1.0000000000000E+00\n",
      " 1     00:00:00         1            20           151          464         0     +9.7272583619471E-27                        +2.3974216159463E-13  +1.0000000000000E+00, +1.0000000000000E+00, +1.0000000000000E+00, +1.0000000000000E+00, +1.0000000000000E+00, +1.0000000000000E+00, +1.0000000000000E+00\n",
      " 1     00:00:00         1            21           153          466         0     +1.0711903189629E-26                        +3.1753179573566E-13  +1.0000000000000E+00, +1.0000000000000E+00, +1.0000000000000E+00, +1.0000000000000E+00, +1.0000000000000E+00, +1.0000000000000E+00, +1.0000000000000E+00\n",
      " 1     00:00:00         1            22           153          466         0     +7.7899683121292E-27                        +1.9191466875898E-13  +1.0000000000000E+00, +1.0000000000000E+00, +1.0000000000000E+00, +1.0000000000000E+00, +1.0000000000000E+00, +1.0000000000000E+00, +1.0000000000000E+00\n",
      "\n",
      "The optimization routine failed to converge. This problem can sometimes be mitigated by choosing more reasonable initial parameter values, setting more conservative bounds, or configuring other optimization settings.\n",
      "\n",
      "\n",
      "Optimization failed after 00:00:03.\n",
      "Computing the Hessian and and updating the weighting matrix ...\n",
      "Computed results after 00:00:02.\n",
      "\n",
      "Problem Results Summary:\n",
      "===========================================================================================================================\n",
      "GMM        Objective              Gradient               Hessian               Hessian        Clipped    Weighting Matrix  \n",
      "Step         Value                  Norm             Min Eigenvalue        Max Eigenvalue     Shares     Condition Number  \n",
      "----  --------------------  --------------------  --------------------  --------------------  -------  --------------------\n",
      " 1    +7.7899683121292E-27  +1.9191466875898E-13  -2.1941880127562E-05  +4.1381323863492E-05     0     +9.1579102736529E+01\n",
      "===========================================================================================================================\n",
      "\n",
      "Starting optimization ...\n",
      "\n",
      "GMM   Computation  Optimization   Objective   Fixed Point  Contraction  Clipped       Objective             Objective              Gradient                                                                                                                                                                \n",
      "Step     Time       Iterations   Evaluations  Iterations   Evaluations  Shares          Value              Improvement               Norm                                                                                   Theta                                                                          \n",
      "----  -----------  ------------  -----------  -----------  -----------  -------  --------------------  --------------------  --------------------  --------------------------------------------------------------------------------------------------------------------------------------------------------\n",
      " 2     00:00:00         0             1            0           10          0     +8.3314662674042E-27                        +3.5399277824058E-13  +1.0000000000000E+00, +1.0000000000000E+00, +1.0000000000000E+00, +1.0000000000000E+00, +1.0000000000000E+00, +1.0000000000000E+00, +1.0000000000000E+00\n",
      " 2     00:00:00         0             2           19           72          0     +9.5832410829883E-27                        +6.0471461108433E-13  +9.9999999999999E-01, +1.0000000000004E+00, +9.9999999999996E-01, +1.0000000000003E+00, +1.0000000000000E+00, +1.0000000000000E+00, +9.9999999999999E-01\n",
      " 2     00:00:00         0             3           11           39          0     +8.4415243908054E-27                        +8.3545398289872E-13  +1.0000000000000E+00, +1.0000000000001E+00, +9.9999999999999E-01, +1.0000000000001E+00, +1.0000000000000E+00, +1.0000000000000E+00, +1.0000000000000E+00\n",
      " 2     00:00:00         0             4            1           21          0     +6.3573671462273E-27  +1.9740991211769E-27  +7.5026601248160E-13  +1.0000000000000E+00, +1.0000000000000E+00, +1.0000000000000E+00, +1.0000000000000E+00, +1.0000000000000E+00, +1.0000000000000E+00, +1.0000000000000E+00\n",
      " 2     00:00:00         0             5            4           24          0     +8.3711178230008E-27                        +7.9593741277169E-13  +1.0000000000000E+00, +1.0000000000000E+00, +1.0000000000000E+00, +1.0000000000000E+00, +1.0000000000000E+00, +1.0000000000000E+00, +1.0000000000000E+00\n",
      " 2     00:00:00         0             6            1           21          0     +5.7616852070022E-27  +5.9568193922502E-28  +5.3175733267908E-13  +1.0000000000000E+00, +1.0000000000000E+00, +1.0000000000000E+00, +1.0000000000000E+00, +1.0000000000000E+00, +1.0000000000000E+00, +1.0000000000000E+00\n",
      " 2     00:00:00         0             7            3           23          0     +9.1658114707901E-27                        +9.6343570743282E-13  +1.0000000000000E+00, +1.0000000000000E+00, +1.0000000000000E+00, +1.0000000000000E+00, +1.0000000000000E+00, +1.0000000000000E+00, +1.0000000000000E+00\n",
      " 2     00:00:00         0             8            1           21          0     +5.9363418430965E-27                        +5.6271220450056E-13  +1.0000000000000E+00, +1.0000000000000E+00, +1.0000000000000E+00, +1.0000000000000E+00, +1.0000000000000E+00, +1.0000000000000E+00, +1.0000000000000E+00\n",
      " 2     00:00:00         0             9            1           21          0     +7.8824940785541E-27                        +6.1865822222269E-13  +1.0000000000000E+00, +1.0000000000000E+00, +1.0000000000000E+00, +1.0000000000000E+00, +1.0000000000000E+00, +1.0000000000000E+00, +1.0000000000000E+00\n",
      " 2     00:00:00         0            10            1           21          0     +5.7616852070022E-27                        +5.3175733267908E-13  +1.0000000000000E+00, +1.0000000000000E+00, +1.0000000000000E+00, +1.0000000000000E+00, +1.0000000000000E+00, +1.0000000000000E+00, +1.0000000000000E+00\n",
      " 2     00:00:00         0            11            1           21          0     +7.8824940785541E-27                        +6.1865822222269E-13  +1.0000000000000E+00, +1.0000000000000E+00, +1.0000000000000E+00, +1.0000000000000E+00, +1.0000000000000E+00, +1.0000000000000E+00, +1.0000000000000E+00\n"
     ]
    },
    {
     "name": "stderr",
     "output_type": "stream",
     "text": [
      "ERROR:tornado.application:Exception in callback functools.partial(<bound method OutStream._flush of <ipykernel.iostream.OutStream object at 0x7f1096bfb6a0>>)\n",
      "Traceback (most recent call last):\n",
      "  File \"/home/hspassos/anaconda3/envs/blp_python/lib/python3.12/site-packages/tornado/ioloop.py\", line 750, in _run_callback\n",
      "    ret = callback()\n",
      "          ^^^^^^^^^^\n",
      "  File \"/home/hspassos/anaconda3/envs/blp_python/lib/python3.12/site-packages/ipykernel/iostream.py\", line 639, in _flush\n",
      "    msg = self.session.msg(\"stream\", content, parent=parent)\n",
      "          ^^^^^^^^^^^^^^^^^^^^^^^^^^^^^^^^^^^^^^^^^^^^^^^^^^\n",
      "  File \"/home/hspassos/anaconda3/envs/blp_python/lib/python3.12/site-packages/jupyter_client/session.py\", line 661, in msg\n",
      "    header = self.msg_header(msg_type) if header is None else header\n",
      "             ^^^^^^^^^^^^^^^^^^^^^^^^^\n",
      "  File \"/home/hspassos/anaconda3/envs/blp_python/lib/python3.12/site-packages/jupyter_client/session.py\", line 644, in msg_header\n",
      "    return msg_header(self.msg_id, msg_type, self.username, self.session)\n",
      "           ^^^^^^^^^^^^^^^^^^^^^^^^^^^^^^^^^^^^^^^^^^^^^^^^^^^^^^^^^^^^^^\n",
      "  File \"/home/hspassos/anaconda3/envs/blp_python/lib/python3.12/site-packages/jupyter_client/session.py\", line 275, in msg_header\n",
      "    date = utcnow()\n",
      "           ^^^^^^^^\n",
      "  File \"/home/hspassos/anaconda3/envs/blp_python/lib/python3.12/site-packages/jupyter_client/session.py\", line 203, in utcnow\n",
      "    return datetime.utcnow().replace(tzinfo=utc)\n",
      "           ^^^^^^^^^^^^^^^^^\n",
      "DeprecationWarning: datetime.datetime.utcnow() is deprecated and scheduled for removal in a future version. Use timezone-aware objects to represent datetimes in UTC: datetime.datetime.now(datetime.UTC).\n"
     ]
    },
    {
     "name": "stdout",
     "output_type": "stream",
     "text": [
      " 2     00:00:00         0            18            1           21          0     +5.7616852070022E-27                        +5.3175733267908E-13  +1.0000000000000E+00, +1.0000000000000E+00, +1.0000000000000E+00, +1.0000000000000E+00, +1.0000000000000E+00, +1.0000000000000E+00, +1.0000000000000E+00\n",
      " 2     00:00:00         0            19            1           21          0     +7.8824940785541E-27                        +6.1865822222269E-13  +1.0000000000000E+00, +1.0000000000000E+00, +1.0000000000000E+00, +1.0000000000000E+00, +1.0000000000000E+00, +1.0000000000000E+00, +1.0000000000000E+00\n",
      " 2     00:00:00         0            20            1           21          0     +5.7616852070022E-27                        +5.3175733267908E-13  +1.0000000000000E+00, +1.0000000000000E+00, +1.0000000000000E+00, +1.0000000000000E+00, +1.0000000000000E+00, +1.0000000000000E+00, +1.0000000000000E+00\n",
      " 2     00:00:00         0            21           19           72          0     +9.5832410829883E-27                        +6.0471461108433E-13  +9.9999999999999E-01, +1.0000000000004E+00, +9.9999999999996E-01, +1.0000000000003E+00, +1.0000000000000E+00, +1.0000000000000E+00, +9.9999999999999E-01\n",
      " 2     00:00:00         0            22           16           61          0     +8.1764652982900E-27                        +6.5929271794309E-13  +9.9999999999999E-01, +1.0000000000002E+00, +9.9999999999998E-01, +1.0000000000001E+00, +1.0000000000000E+00, +1.0000000000000E+00, +1.0000000000000E+00\n",
      " 2     00:00:00         0            23           18           68          0     +6.5351327668380E-27                        +7.6696411209601E-13  +9.9999999999999E-01, +1.0000000000003E+00, +9.9999999999997E-01, +1.0000000000002E+00, +1.0000000000000E+00, +1.0000000000000E+00, +1.0000000000000E+00\n",
      " 2     00:00:00         0            24           19           71          0     +7.5589633217122E-27                        +5.3478663666325E-13  +9.9999999999999E-01, +1.0000000000003E+00, +9.9999999999997E-01, +1.0000000000003E+00, +1.0000000000000E+00, +1.0000000000000E+00, +9.9999999999999E-01\n",
      " 2     00:00:00         0            25           19           70          0     +6.0631523025041E-27                        +6.5926697498519E-13  +9.9999999999999E-01, +1.0000000000003E+00, +9.9999999999997E-01, +1.0000000000002E+00, +1.0000000000000E+00, +1.0000000000000E+00, +9.9999999999999E-01\n",
      " 2     00:00:00         0            26           19           71          0     +1.0030544328411E-26                        +6.9555238244526E-13  +9.9999999999999E-01, +1.0000000000003E+00, +9.9999999999997E-01, +1.0000000000003E+00, +1.0000000000000E+00, +1.0000000000000E+00, +9.9999999999999E-01\n",
      " 2     00:00:00         0            27           19           72          0     +4.8864026296984E-27  +8.7528257730382E-28  +6.2486433780701E-13  +9.9999999999999E-01, +1.0000000000003E+00, +9.9999999999997E-01, +1.0000000000002E+00, +1.0000000000000E+00, +1.0000000000000E+00, +9.9999999999999E-01\n",
      " 2     00:00:00         0            28           19           72          0     +8.8479763140511E-27                        +8.6748439712425E-13  +9.9999999999999E-01, +1.0000000000003E+00, +9.9999999999997E-01, +1.0000000000003E+00, +1.0000000000000E+00, +1.0000000000000E+00, +9.9999999999999E-01\n",
      " 2     00:00:00         0            29           19           71          0     +1.1588915424696E-26                        +8.6759650561113E-13  +9.9999999999999E-01, +1.0000000000003E+00, +9.9999999999997E-01, +1.0000000000002E+00, +1.0000000000000E+00, +1.0000000000000E+00, +9.9999999999999E-01\n",
      " 2     00:00:00         0            30           20           73          0     +6.0967049088638E-27                        +6.1533619431677E-13  +9.9999999999999E-01, +1.0000000000003E+00, +9.9999999999997E-01, +1.0000000000002E+00, +1.0000000000000E+00, +1.0000000000000E+00, +9.9999999999999E-01\n",
      " 2     00:00:00         0            31           18           69          0     +6.5375299705659E-27                        +6.6649400204766E-13  +9.9999999999999E-01, +1.0000000000003E+00, +9.9999999999997E-01, +1.0000000000002E+00, +1.0000000000000E+00, +1.0000000000000E+00, +9.9999999999999E-01\n",
      "\n",
      "The optimization routine failed to converge. This problem can sometimes be mitigated by choosing more reasonable initial parameter values, setting more conservative bounds, or configuring other optimization settings.\n",
      "\n",
      "\n",
      "Optimization failed after 00:00:01.\n",
      "Computing the Hessian and estimating standard errors ...\n",
      "Computed results after 00:00:01.\n",
      "\n",
      "Problem Results Summary:\n",
      "=================================================================================================================================================\n",
      "GMM        Objective              Gradient               Hessian               Hessian        Clipped    Weighting Matrix     Covariance Matrix  \n",
      "Step         Value                  Norm             Min Eigenvalue        Max Eigenvalue     Shares     Condition Number      Condition Number  \n",
      "----  --------------------  --------------------  --------------------  --------------------  -------  --------------------  --------------------\n",
      " 2    +8.3314662674042E-27  +3.5399277824058E-13  -2.3998431332276E-05  +2.8380720415443E-05     0     +1.8856983557030E+02  +4.9371086509037E+18\n",
      "=================================================================================================================================================\n",
      "\n",
      "Cumulative Statistics:\n",
      "===========================================================================\n",
      "Computation  Optimizer  Optimization   Objective   Fixed Point  Contraction\n",
      "   Time      Converged   Iterations   Evaluations  Iterations   Evaluations\n",
      "-----------  ---------  ------------  -----------  -----------  -----------\n",
      " 00:00:07       No           1            55          3755         11960   \n",
      "===========================================================================\n",
      "\n",
      "Nonlinear Coefficient Estimates (Robust SEs in Parentheses):\n",
      "===============================================================================================================================================================================\n",
      "Sigma:             1                     prices                  char1                   char2                   char3                  costsh1                 costsh2        \n",
      "-------  ----------------------  ----------------------  ----------------------  ----------------------  ----------------------  ----------------------  ----------------------\n",
      "   1      +1.0000000000000E+00                                                                                                                                                 \n",
      "         (+6.9622432663470E-03)                                                                                                                                                \n",
      "                                                                                                                                                                               \n",
      "prices    +0.0000000000000E+00    +1.0000000000000E+00                                                                                                                         \n",
      "                                 (+1.1737609212766E-01)                                                                                                                        \n",
      "                                                                                                                                                                               \n",
      " char1    +0.0000000000000E+00    +0.0000000000000E+00    +1.0000000000000E+00                                                                                                 \n",
      "                                                         (+9.0953194355645E-02)                                                                                                \n",
      "                                                                                                                                                                               \n",
      " char2    +0.0000000000000E+00    +0.0000000000000E+00    +0.0000000000000E+00    +1.0000000000000E+00                                                                         \n",
      "                                                                                 (+1.0909120619031E-01)                                                                        \n",
      "                                                                                                                                                                               \n",
      " char3    +0.0000000000000E+00    +0.0000000000000E+00    +0.0000000000000E+00    +0.0000000000000E+00    +1.0000000000000E+00                                                 \n",
      "                                                                                                         (+1.8631450401344E-01)                                                \n",
      "                                                                                                                                                                               \n",
      "costsh1   +0.0000000000000E+00    +0.0000000000000E+00    +0.0000000000000E+00    +0.0000000000000E+00    +0.0000000000000E+00    +1.0000000000000E+00                         \n",
      "                                                                                                                                 (+1.5108293984020E-02)                        \n",
      "                                                                                                                                                                               \n",
      "costsh2   +0.0000000000000E+00    +0.0000000000000E+00    +0.0000000000000E+00    +0.0000000000000E+00    +0.0000000000000E+00    +0.0000000000000E+00    +1.0000000000000E+00 \n",
      "                                                                                                                                                         (+1.8371386259109E-02)\n",
      "===============================================================================================================================================================================\n",
      "\n",
      "Beta Estimates (Robust SEs in Parentheses):\n",
      "==============================================================================================================================================\n",
      "        prices                  char1                   char2                   char3                  costsh1                 costsh2        \n",
      "----------------------  ----------------------  ----------------------  ----------------------  ----------------------  ----------------------\n",
      " -2.2313863244623E+00    -1.9431473549215E-02    -5.0087268870514E-02    +4.6325483590655E-01    -1.5282164349516E+00    -1.2621283788897E+00 \n",
      "(+8.4358996302135E-02)  (+1.4630974707531E-01)  (+1.8136509195552E-01)  (+1.3736290110478E-01)  (+2.7318420317347E-01)  (+3.1591550864354E-01)\n",
      "==============================================================================================================================================\n"
     ]
    },
    {
     "data": {
      "text/plain": [
       "Problem Results Summary:\n",
       "=================================================================================================================================================\n",
       "GMM        Objective              Gradient               Hessian               Hessian        Clipped    Weighting Matrix     Covariance Matrix  \n",
       "Step         Value                  Norm             Min Eigenvalue        Max Eigenvalue     Shares     Condition Number      Condition Number  \n",
       "----  --------------------  --------------------  --------------------  --------------------  -------  --------------------  --------------------\n",
       " 2    +8.3314662674042E-27  +3.5399277824058E-13  -2.3998431332276E-05  +2.8380720415443E-05     0     +1.8856983557030E+02  +4.9371086509037E+18\n",
       "=================================================================================================================================================\n",
       "\n",
       "Cumulative Statistics:\n",
       "===========================================================================\n",
       "Computation  Optimizer  Optimization   Objective   Fixed Point  Contraction\n",
       "   Time      Converged   Iterations   Evaluations  Iterations   Evaluations\n",
       "-----------  ---------  ------------  -----------  -----------  -----------\n",
       " 00:00:07       No           1            55          3755         11960   \n",
       "===========================================================================\n",
       "\n",
       "Nonlinear Coefficient Estimates (Robust SEs in Parentheses):\n",
       "===============================================================================================================================================================================\n",
       "Sigma:             1                     prices                  char1                   char2                   char3                  costsh1                 costsh2        \n",
       "-------  ----------------------  ----------------------  ----------------------  ----------------------  ----------------------  ----------------------  ----------------------\n",
       "   1      +1.0000000000000E+00                                                                                                                                                 \n",
       "         (+6.9622432663470E-03)                                                                                                                                                \n",
       "                                                                                                                                                                               \n",
       "prices    +0.0000000000000E+00    +1.0000000000000E+00                                                                                                                         \n",
       "                                 (+1.1737609212766E-01)                                                                                                                        \n",
       "                                                                                                                                                                               \n",
       " char1    +0.0000000000000E+00    +0.0000000000000E+00    +1.0000000000000E+00                                                                                                 \n",
       "                                                         (+9.0953194355645E-02)                                                                                                \n",
       "                                                                                                                                                                               \n",
       " char2    +0.0000000000000E+00    +0.0000000000000E+00    +0.0000000000000E+00    +1.0000000000000E+00                                                                         \n",
       "                                                                                 (+1.0909120619031E-01)                                                                        \n",
       "                                                                                                                                                                               \n",
       " char3    +0.0000000000000E+00    +0.0000000000000E+00    +0.0000000000000E+00    +0.0000000000000E+00    +1.0000000000000E+00                                                 \n",
       "                                                                                                         (+1.8631450401344E-01)                                                \n",
       "                                                                                                                                                                               \n",
       "costsh1   +0.0000000000000E+00    +0.0000000000000E+00    +0.0000000000000E+00    +0.0000000000000E+00    +0.0000000000000E+00    +1.0000000000000E+00                         \n",
       "                                                                                                                                 (+1.5108293984020E-02)                        \n",
       "                                                                                                                                                                               \n",
       "costsh2   +0.0000000000000E+00    +0.0000000000000E+00    +0.0000000000000E+00    +0.0000000000000E+00    +0.0000000000000E+00    +0.0000000000000E+00    +1.0000000000000E+00 \n",
       "                                                                                                                                                         (+1.8371386259109E-02)\n",
       "===============================================================================================================================================================================\n",
       "\n",
       "Beta Estimates (Robust SEs in Parentheses):\n",
       "==============================================================================================================================================\n",
       "        prices                  char1                   char2                   char3                  costsh1                 costsh2        \n",
       "----------------------  ----------------------  ----------------------  ----------------------  ----------------------  ----------------------\n",
       " -2.2313863244623E+00    -1.9431473549215E-02    -5.0087268870514E-02    +4.6325483590655E-01    -1.5282164349516E+00    -1.2621283788897E+00 \n",
       "(+8.4358996302135E-02)  (+1.4630974707531E-01)  (+1.8136509195552E-01)  (+1.3736290110478E-01)  (+2.7318420317347E-01)  (+3.1591550864354E-01)\n",
       "=============================================================================================================================================="
      ]
     },
     "execution_count": 161,
     "metadata": {},
     "output_type": "execute_result"
    }
   ],
   "source": [
    "results2 = mc_problem.solve(sigma=np.eye(7), optimization=bfgs)\n",
    "results2"
   ]
  },
  {
   "cell_type": "markdown",
   "metadata": {},
   "source": [
    "1.b. Write the parameter vector of interest as $\\theta = (\\theta_1, \\theta_2)$, where $\\theta_1$ are the \"linear\" parameters, and \"\\theta_2\" are the \"nonlinear\" parameters. Which parameters are in $\\theta_1$ and which are in $\\theta_2$? What does this imply for estimation?\n"
   ]
  },
  {
   "cell_type": "code",
   "execution_count": 137,
   "metadata": {},
   "outputs": [
    {
     "data": {
      "application/vnd.microsoft.datawrangler.viewer.v0+json": {
       "columns": [
        {
         "name": "index",
         "rawType": "int64",
         "type": "integer"
        },
        {
         "name": "0",
         "rawType": "float64",
         "type": "float"
        }
       ],
       "conversionMethod": "pd.DataFrame",
       "ref": "1f9c6908-abe0-4768-b9e2-3a440feca3bf",
       "rows": [
        [
         "0",
         "4.0187262615224295"
        ],
        [
         "1",
         "-1.874090563325192"
        ],
        [
         "2",
         "-0.3686745060688694"
        ],
        [
         "3",
         "-0.30379125388721456"
        ],
        [
         "4",
         "0.45232969848317145"
        ],
        [
         "5",
         "-1.8659192280571109"
        ],
        [
         "6",
         "-1.4734772380473509"
        ],
        [
         "7",
         "-0.7894118426201988"
        ],
        [
         "8",
         "0.21552526824836526"
        ],
        [
         "9",
         "-0.7956859177706388"
        ],
        [
         "10",
         "-0.5173976075861884"
        ],
        [
         "11",
         "-0.8639832481520635"
        ],
        [
         "12",
         "0.7699333049962096"
        ],
        [
         "13",
         "-0.3010536201169707"
        ],
        [
         "14",
         "-2.3377029232722926"
        ],
        [
         "15",
         "-1.7046637608087654"
        ]
       ],
       "shape": {
        "columns": 1,
        "rows": 16
       }
      },
      "text/html": [
       "<div>\n",
       "<style scoped>\n",
       "    .dataframe tbody tr th:only-of-type {\n",
       "        vertical-align: middle;\n",
       "    }\n",
       "\n",
       "    .dataframe tbody tr th {\n",
       "        vertical-align: top;\n",
       "    }\n",
       "\n",
       "    .dataframe thead th {\n",
       "        text-align: right;\n",
       "    }\n",
       "</style>\n",
       "<table border=\"1\" class=\"dataframe\">\n",
       "  <thead>\n",
       "    <tr style=\"text-align: right;\">\n",
       "      <th></th>\n",
       "      <th>0</th>\n",
       "    </tr>\n",
       "  </thead>\n",
       "  <tbody>\n",
       "    <tr>\n",
       "      <th>0</th>\n",
       "      <td>4.018726</td>\n",
       "    </tr>\n",
       "    <tr>\n",
       "      <th>1</th>\n",
       "      <td>-1.874091</td>\n",
       "    </tr>\n",
       "    <tr>\n",
       "      <th>2</th>\n",
       "      <td>-0.368675</td>\n",
       "    </tr>\n",
       "    <tr>\n",
       "      <th>3</th>\n",
       "      <td>-0.303791</td>\n",
       "    </tr>\n",
       "    <tr>\n",
       "      <th>4</th>\n",
       "      <td>0.452330</td>\n",
       "    </tr>\n",
       "    <tr>\n",
       "      <th>5</th>\n",
       "      <td>-1.865919</td>\n",
       "    </tr>\n",
       "    <tr>\n",
       "      <th>6</th>\n",
       "      <td>-1.473477</td>\n",
       "    </tr>\n",
       "    <tr>\n",
       "      <th>7</th>\n",
       "      <td>-0.789412</td>\n",
       "    </tr>\n",
       "    <tr>\n",
       "      <th>8</th>\n",
       "      <td>0.215525</td>\n",
       "    </tr>\n",
       "    <tr>\n",
       "      <th>9</th>\n",
       "      <td>-0.795686</td>\n",
       "    </tr>\n",
       "    <tr>\n",
       "      <th>10</th>\n",
       "      <td>-0.517398</td>\n",
       "    </tr>\n",
       "    <tr>\n",
       "      <th>11</th>\n",
       "      <td>-0.863983</td>\n",
       "    </tr>\n",
       "    <tr>\n",
       "      <th>12</th>\n",
       "      <td>0.769933</td>\n",
       "    </tr>\n",
       "    <tr>\n",
       "      <th>13</th>\n",
       "      <td>-0.301054</td>\n",
       "    </tr>\n",
       "    <tr>\n",
       "      <th>14</th>\n",
       "      <td>-2.337703</td>\n",
       "    </tr>\n",
       "    <tr>\n",
       "      <th>15</th>\n",
       "      <td>-1.704664</td>\n",
       "    </tr>\n",
       "  </tbody>\n",
       "</table>\n",
       "</div>"
      ],
      "text/plain": [
       "           0\n",
       "0   4.018726\n",
       "1  -1.874091\n",
       "2  -0.368675\n",
       "3  -0.303791\n",
       "4   0.452330\n",
       "5  -1.865919\n",
       "6  -1.473477\n",
       "7  -0.789412\n",
       "8   0.215525\n",
       "9  -0.795686\n",
       "10 -0.517398\n",
       "11 -0.863983\n",
       "12  0.769933\n",
       "13 -0.301054\n",
       "14 -2.337703\n",
       "15 -1.704664"
      ]
     },
     "execution_count": 137,
     "metadata": {},
     "output_type": "execute_result"
    }
   ],
   "source": [
    "theta_1 = pd.DataFrame(logit_results.beta)\n",
    "theta_2 = pd.DataFrame(results2.beta)\n",
    "theta_1\n",
    "theta_2"
   ]
  },
  {
   "cell_type": "markdown",
   "metadata": {},
   "source": [
    "1.c. Bonus question: Explain how the variance terms $\\sigma$ are identified from variation in the choice set and prices.\n"
   ]
  },
  {
   "cell_type": "markdown",
   "metadata": {},
   "source": []
  },
  {
   "cell_type": "markdown",
   "metadata": {},
   "source": [
    "1.d. Estimate the model using 2-step optimal GMM. In addition to your point estimates, please provide standard errors (Hint: take a look at page 6 of the appendix to Nevo (2000) for analytic standard errors, and/or use finite differences for a numerical approximation). If you try different starting values, do your estimates change?\n"
   ]
  },
  {
   "cell_type": "code",
   "execution_count": 165,
   "metadata": {},
   "outputs": [
    {
     "name": "stdout",
     "output_type": "stream",
     "text": [
      "Solving the problem ...\n",
      "\n",
      "Nonlinear Coefficient Initial Values:\n",
      "==============================================================================================================================================================================================================================================================================================================================================\n",
      "Sigma:            1                   prices                char1                 char2                 char3                costsh1               costsh2         |  Sigma Squared:           1                   prices                char1                 char2                 char3                costsh1               costsh2       \n",
      "-------  --------------------  --------------------  --------------------  --------------------  --------------------  --------------------  --------------------  |  --------------  --------------------  --------------------  --------------------  --------------------  --------------------  --------------------  --------------------\n",
      "   1     +1.0000000000000E+00                                                                                                                                      |        1         +1.0000000000000E+00  +1.0000000000000E+00  +1.0000000000000E+00  +1.0000000000000E+00  +1.0000000000000E+00  +1.0000000000000E+00  +1.0000000000000E+00\n",
      "prices   +1.0000000000000E+00  +1.0000000000000E+00                                                                                                                |      prices      +1.0000000000000E+00  +2.0000000000000E+00  +2.0000000000000E+00  +2.0000000000000E+00  +2.0000000000000E+00  +2.0000000000000E+00  +2.0000000000000E+00\n",
      " char1   +1.0000000000000E+00  +1.0000000000000E+00  +1.0000000000000E+00                                                                                          |      char1       +1.0000000000000E+00  +2.0000000000000E+00  +3.0000000000000E+00  +3.0000000000000E+00  +3.0000000000000E+00  +3.0000000000000E+00  +3.0000000000000E+00\n",
      " char2   +1.0000000000000E+00  +1.0000000000000E+00  +1.0000000000000E+00  +1.0000000000000E+00                                                                    |      char2       +1.0000000000000E+00  +2.0000000000000E+00  +3.0000000000000E+00  +4.0000000000000E+00  +4.0000000000000E+00  +4.0000000000000E+00  +4.0000000000000E+00\n",
      " char3   +1.0000000000000E+00  +1.0000000000000E+00  +1.0000000000000E+00  +1.0000000000000E+00  +1.0000000000000E+00                                              |      char3       +1.0000000000000E+00  +2.0000000000000E+00  +3.0000000000000E+00  +4.0000000000000E+00  +5.0000000000000E+00  +5.0000000000000E+00  +5.0000000000000E+00\n",
      "costsh1  +1.0000000000000E+00  +1.0000000000000E+00  +1.0000000000000E+00  +1.0000000000000E+00  +1.0000000000000E+00  +1.0000000000000E+00                        |     costsh1      +1.0000000000000E+00  +2.0000000000000E+00  +3.0000000000000E+00  +4.0000000000000E+00  +5.0000000000000E+00  +6.0000000000000E+00  +6.0000000000000E+00\n",
      "costsh2  +1.0000000000000E+00  +1.0000000000000E+00  +1.0000000000000E+00  +1.0000000000000E+00  +1.0000000000000E+00  +1.0000000000000E+00  +1.0000000000000E+00  |     costsh2      +1.0000000000000E+00  +2.0000000000000E+00  +3.0000000000000E+00  +4.0000000000000E+00  +5.0000000000000E+00  +6.0000000000000E+00  +7.0000000000000E+00\n",
      "==============================================================================================================================================================================================================================================================================================================================================\n",
      "Starting optimization ...\n",
      "\n"
     ]
    },
    {
     "name": "stderr",
     "output_type": "stream",
     "text": [
      "The model may be under-identified. The total number of unfixed parameters is 34, which is more than the total number of moments, 5. Consider checking whether instruments were properly specified when initializing the problem, and whether parameters were properly configured when solving the problem.\n"
     ]
    },
    {
     "name": "stdout",
     "output_type": "stream",
     "text": [
      "GMM   Computation  Optimization   Objective   Fixed Point  Contraction  Clipped       Objective             Objective              Gradient                                                                                                                                                                                                                                                                                                                                                                                                                                                                                                                                                                                                                                              \n",
      "Step     Time       Iterations   Evaluations  Iterations   Evaluations  Shares          Value              Improvement               Norm                                                                                                                                                                                                                                                                                                                          Theta                                                                                                                                                                                                                                                                                                                 \n",
      "----  -----------  ------------  -----------  -----------  -----------  -------  --------------------  --------------------  --------------------  --------------------------------------------------------------------------------------------------------------------------------------------------------------------------------------------------------------------------------------------------------------------------------------------------------------------------------------------------------------------------------------------------------------------------------------------------------------------------------------------------------------------------------------------------------------------------------------------------------------------------------------\n",
      " 1     00:00:01         0             1           289          875         0     +2.1095646627429E-26                        +1.4360154494112E-12  +1.0000000000000E+00, +1.0000000000000E+00, +1.0000000000000E+00, +1.0000000000000E+00, +1.0000000000000E+00, +1.0000000000000E+00, +1.0000000000000E+00, +1.0000000000000E+00, +1.0000000000000E+00, +1.0000000000000E+00, +1.0000000000000E+00, +1.0000000000000E+00, +1.0000000000000E+00, +1.0000000000000E+00, +1.0000000000000E+00, +1.0000000000000E+00, +1.0000000000000E+00, +1.0000000000000E+00, +1.0000000000000E+00, +1.0000000000000E+00, +1.0000000000000E+00, +1.0000000000000E+00, +1.0000000000000E+00, +1.0000000000000E+00, +1.0000000000000E+00, +1.0000000000000E+00, +1.0000000000000E+00, +1.0000000000000E+00\n",
      " 1     00:00:00         0             2           289          874         0     +2.0244918422545E-26  +8.5072820488317E-28  +1.5408216236289E-12  +9.9999999999994E-01, +1.0000000000000E+00, +1.0000000000002E+00, +9.9999999999911E-01, +9.9999999999938E-01, +1.0000000000002E+00, +1.0000000000014E+00, +1.0000000000012E+00, +1.0000000000001E+00, +1.0000000000000E+00, +1.0000000000014E+00, +1.0000000000014E+00, +1.0000000000003E+00, +1.0000000000000E+00, +9.9999999999997E-01, +9.9999999999985E-01, +9.9999999999988E-01, +1.0000000000001E+00, +1.0000000000002E+00, +1.0000000000001E+00, +9.9999999999996E-01, +9.9999999999983E-01, +9.9999999999984E-01, +1.0000000000001E+00, +1.0000000000001E+00, +1.0000000000001E+00, +9.9999999999995E-01, +9.9999999999997E-01\n",
      " 1     00:00:00         0             3           289          878         0     +1.9920805256139E-26  +3.2411316640615E-28  +1.5614458852229E-12  +9.9999999999999E-01, +1.0000000000000E+00, +1.0000000000000E+00, +9.9999999999981E-01, +9.9999999999986E-01, +1.0000000000000E+00, +1.0000000000003E+00, +1.0000000000003E+00, +1.0000000000000E+00, +1.0000000000000E+00, +1.0000000000003E+00, +1.0000000000003E+00, +1.0000000000001E+00, +1.0000000000000E+00, +9.9999999999999E-01, +9.9999999999997E-01, +9.9999999999997E-01, +1.0000000000000E+00, +1.0000000000000E+00, +1.0000000000000E+00, +9.9999999999999E-01, +9.9999999999996E-01, +9.9999999999997E-01, +1.0000000000000E+00, +1.0000000000000E+00, +1.0000000000000E+00, +9.9999999999999E-01, +9.9999999999999E-01\n",
      " 1     00:00:00         1             4           287          871         0     +2.9563479070908E-26                        +1.8955266408674E-12  +9.9999999999999E-01, +1.0000000000000E+00, +1.0000000000000E+00, +9.9999999999981E-01, +9.9999999999986E-01, +1.0000000000000E+00, +1.0000000000003E+00, +1.0000000000003E+00, +1.0000000000000E+00, +1.0000000000000E+00, +1.0000000000003E+00, +1.0000000000003E+00, +1.0000000000001E+00, +1.0000000000000E+00, +9.9999999999999E-01, +9.9999999999997E-01, +9.9999999999997E-01, +1.0000000000000E+00, +1.0000000000000E+00, +1.0000000000000E+00, +9.9999999999999E-01, +9.9999999999996E-01, +9.9999999999997E-01, +1.0000000000000E+00, +1.0000000000000E+00, +1.0000000000000E+00, +9.9999999999999E-01, +9.9999999999999E-01\n",
      " 1     00:00:00         1             5           289          878         0     +1.9920805256139E-26                        +1.5614458852229E-12  +9.9999999999999E-01, +1.0000000000000E+00, +1.0000000000000E+00, +9.9999999999981E-01, +9.9999999999986E-01, +1.0000000000000E+00, +1.0000000000003E+00, +1.0000000000003E+00, +1.0000000000000E+00, +1.0000000000000E+00, +1.0000000000003E+00, +1.0000000000003E+00, +1.0000000000001E+00, +1.0000000000000E+00, +9.9999999999999E-01, +9.9999999999997E-01, +9.9999999999997E-01, +1.0000000000000E+00, +1.0000000000000E+00, +1.0000000000000E+00, +9.9999999999999E-01, +9.9999999999996E-01, +9.9999999999997E-01, +1.0000000000000E+00, +1.0000000000000E+00, +1.0000000000000E+00, +9.9999999999999E-01, +9.9999999999999E-01\n",
      " 1     00:00:00         1             6           287          871         0     +2.9563479070908E-26                        +1.8955266408674E-12  +9.9999999999999E-01, +1.0000000000000E+00, +1.0000000000000E+00, +9.9999999999981E-01, +9.9999999999986E-01, +1.0000000000000E+00, +1.0000000000003E+00, +1.0000000000003E+00, +1.0000000000000E+00, +1.0000000000000E+00, +1.0000000000003E+00, +1.0000000000003E+00, +1.0000000000001E+00, +1.0000000000000E+00, +9.9999999999999E-01, +9.9999999999997E-01, +9.9999999999997E-01, +1.0000000000000E+00, +1.0000000000000E+00, +1.0000000000000E+00, +9.9999999999999E-01, +9.9999999999996E-01, +9.9999999999997E-01, +1.0000000000000E+00, +1.0000000000000E+00, +1.0000000000000E+00, +9.9999999999999E-01, +9.9999999999999E-01\n",
      " 1     00:00:00         1             7           289          878         0     +2.9329679174586E-26                        +1.8833304272592E-12  +9.9999999999999E-01, +1.0000000000000E+00, +1.0000000000000E+00, +9.9999999999981E-01, +9.9999999999986E-01, +1.0000000000000E+00, +1.0000000000003E+00, +1.0000000000003E+00, +1.0000000000000E+00, +1.0000000000000E+00, +1.0000000000003E+00, +1.0000000000003E+00, +1.0000000000001E+00, +1.0000000000000E+00, +9.9999999999999E-01, +9.9999999999997E-01, +9.9999999999997E-01, +1.0000000000000E+00, +1.0000000000000E+00, +1.0000000000000E+00, +9.9999999999999E-01, +9.9999999999996E-01, +9.9999999999997E-01, +1.0000000000000E+00, +1.0000000000000E+00, +1.0000000000000E+00, +9.9999999999999E-01, +9.9999999999999E-01\n",
      " 1     00:00:00         1             8           286          868         0     +4.2320586612017E-26                        +1.8842642122031E-12  +9.9999999999999E-01, +1.0000000000000E+00, +1.0000000000000E+00, +9.9999999999981E-01, +9.9999999999986E-01, +1.0000000000000E+00, +1.0000000000003E+00, +1.0000000000003E+00, +1.0000000000000E+00, +1.0000000000000E+00, +1.0000000000003E+00, +1.0000000000003E+00, +1.0000000000001E+00, +1.0000000000000E+00, +9.9999999999999E-01, +9.9999999999997E-01, +9.9999999999997E-01, +1.0000000000000E+00, +1.0000000000000E+00, +1.0000000000000E+00, +9.9999999999999E-01, +9.9999999999996E-01, +9.9999999999997E-01, +1.0000000000000E+00, +1.0000000000000E+00, +1.0000000000000E+00, +9.9999999999999E-01, +9.9999999999999E-01\n",
      " 1     00:00:00         1             9           289          878         0     +1.9920805256139E-26                        +1.5614458852229E-12  +9.9999999999999E-01, +1.0000000000000E+00, +1.0000000000000E+00, +9.9999999999981E-01, +9.9999999999986E-01, +1.0000000000000E+00, +1.0000000000003E+00, +1.0000000000003E+00, +1.0000000000000E+00, +1.0000000000000E+00, +1.0000000000003E+00, +1.0000000000003E+00, +1.0000000000001E+00, +1.0000000000000E+00, +9.9999999999999E-01, +9.9999999999997E-01, +9.9999999999997E-01, +1.0000000000000E+00, +1.0000000000000E+00, +1.0000000000000E+00, +9.9999999999999E-01, +9.9999999999996E-01, +9.9999999999997E-01, +1.0000000000000E+00, +1.0000000000000E+00, +1.0000000000000E+00, +9.9999999999999E-01, +9.9999999999999E-01\n",
      "\n",
      "The optimization routine failed to converge. This problem can sometimes be mitigated by choosing more reasonable initial parameter values, setting more conservative bounds, or configuring other optimization settings.\n",
      "\n",
      "\n",
      "Optimization failed after 00:00:02.\n",
      "Computing the Hessian and and updating the weighting matrix ...\n",
      "Computed results after 00:00:16.\n",
      "\n",
      "Problem Results Summary:\n",
      "===========================================================================================================================\n",
      "GMM        Objective              Gradient               Hessian               Hessian        Clipped    Weighting Matrix  \n",
      "Step         Value                  Norm             Min Eigenvalue        Max Eigenvalue     Shares     Condition Number  \n",
      "----  --------------------  --------------------  --------------------  --------------------  -------  --------------------\n",
      " 1    +1.9920805256139E-26  +1.5614458852229E-12  -2.9176296080531E-04  +3.1418709849730E-04     0     +9.1579102736529E+01\n",
      "===========================================================================================================================\n",
      "\n",
      "Starting optimization ...\n",
      "\n",
      "GMM   Computation  Optimization   Objective   Fixed Point  Contraction  Clipped       Objective             Objective              Gradient                                                                                                                                                                                                                                                                                                                                                                                                                                                                                                                                                                                                                                              \n",
      "Step     Time       Iterations   Evaluations  Iterations   Evaluations  Shares          Value              Improvement               Norm                                                                                                                                                                                                                                                                                                                          Theta                                                                                                                                                                                                                                                                                                                 \n",
      "----  -----------  ------------  -----------  -----------  -----------  -------  --------------------  --------------------  --------------------  --------------------------------------------------------------------------------------------------------------------------------------------------------------------------------------------------------------------------------------------------------------------------------------------------------------------------------------------------------------------------------------------------------------------------------------------------------------------------------------------------------------------------------------------------------------------------------------------------------------------------------------\n",
      " 2     00:00:00         0             1            0           11          0     +6.0533391004769E-26                        +4.7124267143486E-13  +9.9999999999999E-01, +1.0000000000000E+00, +1.0000000000000E+00, +9.9999999999981E-01, +9.9999999999986E-01, +1.0000000000000E+00, +1.0000000000003E+00, +1.0000000000003E+00, +1.0000000000000E+00, +1.0000000000000E+00, +1.0000000000003E+00, +1.0000000000003E+00, +1.0000000000001E+00, +1.0000000000000E+00, +9.9999999999999E-01, +9.9999999999997E-01, +9.9999999999997E-01, +1.0000000000000E+00, +1.0000000000000E+00, +1.0000000000000E+00, +9.9999999999999E-01, +9.9999999999996E-01, +9.9999999999997E-01, +1.0000000000000E+00, +1.0000000000000E+00, +1.0000000000000E+00, +9.9999999999999E-01, +9.9999999999999E-01\n",
      " 2     00:00:00         0             2           38           126         0     +3.1247090742030E-26  +2.9286300262740E-26  +4.1981634940432E-13  +9.9999999999998E-01, +9.9999999999963E-01, +9.9999999999957E-01, +9.9999999999949E-01, +9.9999999999967E-01, +1.0000000000001E+00, +1.0000000000001E+00, +9.9999999999995E-01, +9.9999999999998E-01, +9.9999999999965E-01, +1.0000000000005E+00, +1.0000000000005E+00, +1.0000000000001E+00, +1.0000000000000E+00, +9.9999999999990E-01, +1.0000000000001E+00, +1.0000000000001E+00, +9.9999999999997E-01, +1.0000000000000E+00, +1.0000000000000E+00, +1.0000000000000E+00, +9.9999999999995E-01, +9.9999999999995E-01, +1.0000000000001E+00, +1.0000000000000E+00, +1.0000000000001E+00, +1.0000000000000E+00, +9.9999999999998E-01\n",
      " 2     00:00:00         1             3           38           127         0     +5.0124789450571E-26                        +4.9930396810756E-13  +9.9999999999998E-01, +9.9999999999960E-01, +9.9999999999953E-01, +9.9999999999946E-01, +9.9999999999965E-01, +1.0000000000001E+00, +1.0000000000001E+00, +9.9999999999994E-01, +9.9999999999998E-01, +9.9999999999962E-01, +1.0000000000005E+00, +1.0000000000006E+00, +1.0000000000001E+00, +1.0000000000000E+00, +9.9999999999989E-01, +1.0000000000001E+00, +1.0000000000001E+00, +9.9999999999997E-01, +1.0000000000000E+00, +1.0000000000000E+00, +1.0000000000000E+00, +9.9999999999994E-01, +9.9999999999995E-01, +1.0000000000001E+00, +1.0000000000000E+00, +1.0000000000001E+00, +1.0000000000000E+00, +9.9999999999998E-01\n",
      " 2     00:00:00         1             4           37           122         0     +5.5345870726670E-26                        +6.2549288652871E-13  +9.9999999999998E-01, +9.9999999999962E-01, +9.9999999999956E-01, +9.9999999999949E-01, +9.9999999999967E-01, +1.0000000000001E+00, +1.0000000000001E+00, +9.9999999999995E-01, +9.9999999999998E-01, +9.9999999999964E-01, +1.0000000000005E+00, +1.0000000000005E+00, +1.0000000000001E+00, +1.0000000000000E+00, +9.9999999999990E-01, +1.0000000000001E+00, +1.0000000000001E+00, +9.9999999999997E-01, +1.0000000000000E+00, +1.0000000000000E+00, +1.0000000000000E+00, +9.9999999999995E-01, +9.9999999999995E-01, +1.0000000000001E+00, +1.0000000000000E+00, +1.0000000000001E+00, +1.0000000000000E+00, +9.9999999999998E-01\n",
      " 2     00:00:00         1             5           35           118         0     +4.6923353827549E-26                        +4.0255780203410E-13  +9.9999999999998E-01, +9.9999999999963E-01, +9.9999999999957E-01, +9.9999999999949E-01, +9.9999999999967E-01, +1.0000000000001E+00, +1.0000000000001E+00, +9.9999999999995E-01, +9.9999999999998E-01, +9.9999999999965E-01, +1.0000000000005E+00, +1.0000000000005E+00, +1.0000000000001E+00, +1.0000000000000E+00, +9.9999999999990E-01, +1.0000000000001E+00, +1.0000000000001E+00, +9.9999999999997E-01, +1.0000000000000E+00, +1.0000000000000E+00, +1.0000000000000E+00, +9.9999999999995E-01, +9.9999999999995E-01, +1.0000000000001E+00, +1.0000000000000E+00, +1.0000000000001E+00, +1.0000000000000E+00, +9.9999999999998E-01\n",
      " 2     00:00:00         1             6           38           126         0     +3.1247090742030E-26                        +4.1981634940432E-13  +9.9999999999998E-01, +9.9999999999963E-01, +9.9999999999957E-01, +9.9999999999949E-01, +9.9999999999967E-01, +1.0000000000001E+00, +1.0000000000001E+00, +9.9999999999995E-01, +9.9999999999998E-01, +9.9999999999965E-01, +1.0000000000005E+00, +1.0000000000005E+00, +1.0000000000001E+00, +1.0000000000000E+00, +9.9999999999990E-01, +1.0000000000001E+00, +1.0000000000001E+00, +9.9999999999997E-01, +1.0000000000000E+00, +1.0000000000000E+00, +1.0000000000000E+00, +9.9999999999995E-01, +9.9999999999995E-01, +1.0000000000001E+00, +1.0000000000000E+00, +1.0000000000001E+00, +1.0000000000000E+00, +9.9999999999998E-01\n",
      " 2     00:00:00         1             7           38           127         0     +5.0124789450571E-26                        +4.9930396810756E-13  +9.9999999999998E-01, +9.9999999999960E-01, +9.9999999999953E-01, +9.9999999999946E-01, +9.9999999999965E-01, +1.0000000000001E+00, +1.0000000000001E+00, +9.9999999999994E-01, +9.9999999999998E-01, +9.9999999999962E-01, +1.0000000000005E+00, +1.0000000000006E+00, +1.0000000000001E+00, +1.0000000000000E+00, +9.9999999999989E-01, +1.0000000000001E+00, +1.0000000000001E+00, +9.9999999999997E-01, +1.0000000000000E+00, +1.0000000000000E+00, +1.0000000000000E+00, +9.9999999999994E-01, +9.9999999999995E-01, +1.0000000000001E+00, +1.0000000000000E+00, +1.0000000000001E+00, +1.0000000000000E+00, +9.9999999999998E-01\n",
      " 2     00:00:00         1             8           37           123         0     +3.4308826922419E-26                        +3.2724554800249E-13  +9.9999999999998E-01, +9.9999999999962E-01, +9.9999999999956E-01, +9.9999999999948E-01, +9.9999999999966E-01, +1.0000000000001E+00, +1.0000000000001E+00, +9.9999999999995E-01, +9.9999999999998E-01, +9.9999999999964E-01, +1.0000000000005E+00, +1.0000000000005E+00, +1.0000000000001E+00, +1.0000000000000E+00, +9.9999999999990E-01, +1.0000000000001E+00, +1.0000000000001E+00, +9.9999999999997E-01, +1.0000000000000E+00, +1.0000000000000E+00, +1.0000000000000E+00, +9.9999999999995E-01, +9.9999999999995E-01, +1.0000000000001E+00, +1.0000000000000E+00, +1.0000000000001E+00, +1.0000000000000E+00, +9.9999999999998E-01\n",
      " 2     00:00:00         1             9           35           119         0     +6.6824555505262E-26                        +4.7097457160500E-13  +9.9999999999998E-01, +9.9999999999962E-01, +9.9999999999956E-01, +9.9999999999949E-01, +9.9999999999967E-01, +1.0000000000001E+00, +1.0000000000001E+00, +9.9999999999995E-01, +9.9999999999998E-01, +9.9999999999964E-01, +1.0000000000005E+00, +1.0000000000005E+00, +1.0000000000001E+00, +1.0000000000000E+00, +9.9999999999990E-01, +1.0000000000001E+00, +1.0000000000001E+00, +9.9999999999997E-01, +1.0000000000000E+00, +1.0000000000000E+00, +1.0000000000000E+00, +9.9999999999995E-01, +9.9999999999995E-01, +1.0000000000001E+00, +1.0000000000000E+00, +1.0000000000001E+00, +1.0000000000000E+00, +9.9999999999998E-01\n",
      " 2     00:00:00         1            10           35           118         0     +6.0963114828689E-26                        +4.3727056907543E-13  +9.9999999999998E-01, +9.9999999999963E-01, +9.9999999999957E-01, +9.9999999999949E-01, +9.9999999999967E-01, +1.0000000000001E+00, +1.0000000000001E+00, +9.9999999999995E-01, +9.9999999999998E-01, +9.9999999999964E-01, +1.0000000000005E+00, +1.0000000000005E+00, +1.0000000000001E+00, +1.0000000000000E+00, +9.9999999999990E-01, +1.0000000000001E+00, +1.0000000000001E+00, +9.9999999999997E-01, +1.0000000000000E+00, +1.0000000000000E+00, +1.0000000000000E+00, +9.9999999999995E-01, +9.9999999999995E-01, +1.0000000000001E+00, +1.0000000000000E+00, +1.0000000000001E+00, +1.0000000000000E+00, +9.9999999999998E-01\n",
      " 2     00:00:00         1            11           36           120         0     +5.3255367199067E-26                        +4.7140564707289E-13  +9.9999999999998E-01, +9.9999999999963E-01, +9.9999999999957E-01, +9.9999999999949E-01, +9.9999999999967E-01, +1.0000000000001E+00, +1.0000000000001E+00, +9.9999999999995E-01, +9.9999999999998E-01, +9.9999999999965E-01, +1.0000000000005E+00, +1.0000000000005E+00, +1.0000000000001E+00, +1.0000000000000E+00, +9.9999999999990E-01, +1.0000000000001E+00, +1.0000000000001E+00, +9.9999999999997E-01, +1.0000000000000E+00, +1.0000000000000E+00, +1.0000000000000E+00, +9.9999999999995E-01, +9.9999999999995E-01, +1.0000000000001E+00, +1.0000000000000E+00, +1.0000000000001E+00, +1.0000000000000E+00, +9.9999999999998E-01\n",
      " 2     00:00:00         1            12           37           124         0     +2.9012006319926E-26  +2.2350844221041E-27  +3.9014494604562E-13  +9.9999999999998E-01, +9.9999999999963E-01, +9.9999999999957E-01, +9.9999999999949E-01, +9.9999999999967E-01, +1.0000000000001E+00, +1.0000000000001E+00, +9.9999999999995E-01, +9.9999999999998E-01, +9.9999999999965E-01, +1.0000000000005E+00, +1.0000000000005E+00, +1.0000000000001E+00, +1.0000000000000E+00, +9.9999999999990E-01, +1.0000000000001E+00, +1.0000000000001E+00, +9.9999999999997E-01, +1.0000000000000E+00, +1.0000000000000E+00, +1.0000000000000E+00, +9.9999999999995E-01, +9.9999999999995E-01, +1.0000000000001E+00, +1.0000000000000E+00, +1.0000000000001E+00, +1.0000000000000E+00, +9.9999999999998E-01\n",
      " 2     00:00:00         1            13           37           124         0     +6.2098836161097E-26                        +4.2781604140423E-13  +9.9999999999998E-01, +9.9999999999963E-01, +9.9999999999957E-01, +9.9999999999949E-01, +9.9999999999967E-01, +1.0000000000001E+00, +1.0000000000001E+00, +9.9999999999995E-01, +9.9999999999998E-01, +9.9999999999965E-01, +1.0000000000005E+00, +1.0000000000005E+00, +1.0000000000001E+00, +1.0000000000000E+00, +9.9999999999990E-01, +1.0000000000001E+00, +1.0000000000001E+00, +9.9999999999997E-01, +1.0000000000000E+00, +1.0000000000000E+00, +1.0000000000000E+00, +9.9999999999995E-01, +9.9999999999995E-01, +1.0000000000001E+00, +1.0000000000000E+00, +1.0000000000001E+00, +1.0000000000000E+00, +9.9999999999998E-01\n",
      " 2     00:00:00         1            14           38           126         0     +4.7389390548980E-26                        +4.8196706324669E-13  +9.9999999999998E-01, +9.9999999999963E-01, +9.9999999999957E-01, +9.9999999999949E-01, +9.9999999999967E-01, +1.0000000000001E+00, +1.0000000000001E+00, +9.9999999999995E-01, +9.9999999999998E-01, +9.9999999999965E-01, +1.0000000000005E+00, +1.0000000000005E+00, +1.0000000000001E+00, +1.0000000000000E+00, +9.9999999999990E-01, +1.0000000000001E+00, +1.0000000000001E+00, +9.9999999999997E-01, +1.0000000000000E+00, +1.0000000000000E+00, +1.0000000000000E+00, +9.9999999999995E-01, +9.9999999999995E-01, +1.0000000000001E+00, +1.0000000000000E+00, +1.0000000000001E+00, +1.0000000000000E+00, +9.9999999999998E-01\n",
      " 2     00:00:00         1            15           37           120         0     +4.5780218133173E-26                        +4.9812354105641E-13  +9.9999999999998E-01, +9.9999999999963E-01, +9.9999999999957E-01, +9.9999999999949E-01, +9.9999999999967E-01, +1.0000000000001E+00, +1.0000000000001E+00, +9.9999999999995E-01, +9.9999999999998E-01, +9.9999999999965E-01, +1.0000000000005E+00, +1.0000000000005E+00, +1.0000000000001E+00, +1.0000000000000E+00, +9.9999999999990E-01, +1.0000000000001E+00, +1.0000000000001E+00, +9.9999999999997E-01, +1.0000000000000E+00, +1.0000000000000E+00, +1.0000000000000E+00, +9.9999999999995E-01, +9.9999999999995E-01, +1.0000000000001E+00, +1.0000000000000E+00, +1.0000000000001E+00, +1.0000000000000E+00, +9.9999999999998E-01\n",
      " 2     00:00:00         1            16           38           127         0     +3.6733960938338E-26                        +3.3692719887678E-13  +9.9999999999998E-01, +9.9999999999963E-01, +9.9999999999957E-01, +9.9999999999949E-01, +9.9999999999967E-01, +1.0000000000001E+00, +1.0000000000001E+00, +9.9999999999995E-01, +9.9999999999998E-01, +9.9999999999965E-01, +1.0000000000005E+00, +1.0000000000005E+00, +1.0000000000001E+00, +1.0000000000000E+00, +9.9999999999990E-01, +1.0000000000001E+00, +1.0000000000001E+00, +9.9999999999997E-01, +1.0000000000000E+00, +1.0000000000000E+00, +1.0000000000000E+00, +9.9999999999995E-01, +9.9999999999995E-01, +1.0000000000001E+00, +1.0000000000000E+00, +1.0000000000001E+00, +1.0000000000000E+00, +9.9999999999998E-01\n",
      " 2     00:00:00         1            17           35           119         0     +6.4893051219192E-26                        +5.1985858289360E-13  +9.9999999999998E-01, +9.9999999999963E-01, +9.9999999999957E-01, +9.9999999999949E-01, +9.9999999999967E-01, +1.0000000000001E+00, +1.0000000000001E+00, +9.9999999999995E-01, +9.9999999999998E-01, +9.9999999999965E-01, +1.0000000000005E+00, +1.0000000000005E+00, +1.0000000000001E+00, +1.0000000000000E+00, +9.9999999999990E-01, +1.0000000000001E+00, +1.0000000000001E+00, +9.9999999999997E-01, +1.0000000000000E+00, +1.0000000000000E+00, +1.0000000000000E+00, +9.9999999999995E-01, +9.9999999999995E-01, +1.0000000000001E+00, +1.0000000000000E+00, +1.0000000000001E+00, +1.0000000000000E+00, +9.9999999999998E-01\n",
      "\n",
      "The optimization routine failed to converge. This problem can sometimes be mitigated by choosing more reasonable initial parameter values, setting more conservative bounds, or configuring other optimization settings.\n",
      "\n",
      "\n",
      "Optimization failed after 00:00:01.\n",
      "Computing the Hessian and estimating standard errors ...\n",
      "Computed results after 00:00:07.\n",
      "\n",
      "Problem Results Summary:\n",
      "=================================================================================================================================================\n",
      "GMM        Objective              Gradient               Hessian               Hessian        Clipped    Weighting Matrix     Covariance Matrix  \n",
      "Step         Value                  Norm             Min Eigenvalue        Max Eigenvalue     Shares     Condition Number      Condition Number  \n",
      "----  --------------------  --------------------  --------------------  --------------------  -------  --------------------  --------------------\n",
      " 2    +3.1247090742030E-26  +4.1981634940432E-13  -6.4693617698989E-05  +7.1284129245656E-05     0     +6.2384331654490E+02  +8.5572903008789E+19\n",
      "=================================================================================================================================================\n",
      "\n",
      "Cumulative Statistics:\n",
      "===========================================================================\n",
      "Computation  Optimizer  Optimization   Objective   Fixed Point  Contraction\n",
      "   Time      Converged   Iterations   Evaluations  Iterations   Evaluations\n",
      "-----------  ---------  ------------  -----------  -----------  -----------\n",
      " 00:00:27       No           2            28          3510         10852   \n",
      "===========================================================================\n",
      "\n",
      "Nonlinear Coefficient Estimates (Robust SEs in Parentheses):\n",
      "==========================================================================================================================================================================================================================================================================================================================================================================\n",
      "Sigma:             1                     prices                  char1                   char2                   char3                  costsh1                 costsh2          |  Sigma Squared:            1                     prices                  char1                   char2                   char3                  costsh1                 costsh2        \n",
      "-------  ----------------------  ----------------------  ----------------------  ----------------------  ----------------------  ----------------------  ----------------------  |  --------------  ----------------------  ----------------------  ----------------------  ----------------------  ----------------------  ----------------------  ----------------------\n",
      "   1      +9.9999999999998E-01                                                                                                                                                   |        1          +9.9999999999997E-01    +9.9999999999961E-01    +9.9999999999947E-01    +1.0000000000001E+00    +1.0000000000005E+00    +1.0000000000001E+00    +9.9999999999993E-01 \n",
      "         (+2.5646592826311E-03)                                                                                                                                                  |                  (+5.1293185652622E-03)  (+1.3207545868449E-01)  (+1.5058832748724E-01)  (+8.9404092204642E-02)  (+9.3373440200829E-02)  (+1.7107045772261E-01)  (+2.6340767802889E-01)\n",
      "                                                                                                                                                                                 |                                                                                                                                                                                        \n",
      "prices    +9.9999999999963E-01    +9.9999999999957E-01                                                                                                                           |      prices       +9.9999999999961E-01    +1.9999999999984E+00    +1.9999999999984E+00    +1.9999999999993E+00    +2.0000000000003E+00    +1.9999999999994E+00    +1.9999999999991E+00 \n",
      "         (+1.3184999792281E-01)  (+1.3991843509955E-01)                                                                                                                          |                  (+1.3207545868449E-01)  (+5.3590031997448E-01)  (+3.8885552172465E-01)  (+4.3424917372389E-01)  (+2.1839917494496E-01)  (+5.1392529984977E-01)  (+4.8697033740639E-01)\n",
      "                                                                                                                                                                                 |                                                                                                                                                                                        \n",
      " char1    +9.9999999999949E-01    +9.9999999999967E-01    +1.0000000000001E+00                                                                                                   |      char1        +9.9999999999947E-01    +1.9999999999984E+00    +2.9999999999985E+00    +2.9999999999993E+00    +3.0000000000004E+00    +2.9999999999994E+00    +2.9999999999992E+00 \n",
      "         (+1.4880232509789E-01)  (+8.0273493684577E-02)  (+9.4414289766014E-02)                                                                                                  |                  (+1.5058832748724E-01)  (+3.8885552172465E-01)  (+3.6269074507471E-01)  (+3.8084105778425E-01)  (+2.8790374275702E-01)  (+2.3897977261083E-01)  (+5.0303961256615E-01)\n",
      "                                                                                                                                                                                 |                                                                                                                                                                                        \n",
      " char2    +1.0000000000001E+00    +9.9999999999995E-01    +9.9999999999998E-01    +9.9999999999965E-01                                                                           |      char2        +1.0000000000001E+00    +1.9999999999993E+00    +2.9999999999993E+00    +3.9999999999994E+00    +4.0000000000008E+00    +3.9999999999998E+00    +3.9999999999997E+00 \n",
      "         (+8.7941082407489E-02)  (+1.4071118102061E-01)  (+4.2451382594656E-02)  (+1.3039574930044E-01)                                                                          |                  (+8.9404092204642E-02)  (+4.3424917372389E-01)  (+3.8084105778425E-01)  (+7.3633613361793E-01)  (+2.4854032239524E-01)  (+4.8473258216525E-01)  (+4.4218389501217E-01)\n",
      "                                                                                                                                                                                 |                                                                                                                                                                                        \n",
      " char3    +1.0000000000005E+00    +1.0000000000005E+00    +1.0000000000001E+00    +1.0000000000000E+00    +9.9999999999990E-01                                                   |      char3        +1.0000000000005E+00    +2.0000000000003E+00    +3.0000000000004E+00    +4.0000000000008E+00    +5.0000000000021E+00    +5.0000000000012E+00    +5.0000000000011E+00 \n",
      "         (+9.5426665448296E-02)  (+1.1099111604828E-01)  (+1.6537543482697E-01)  (+1.3255442181497E-01)  (+7.5283353952592E-02)                                                  |                  (+9.3373440200829E-02)  (+2.1839917494496E-01)  (+2.8790374275702E-01)  (+2.4854032239524E-01)  (+9.7494536173366E-01)  (+5.5271441003316E-01)  (+9.4982228556229E-01)\n",
      "                                                                                                                                                                                 |                                                                                                                                                                                        \n",
      "costsh1   +1.0000000000001E+00    +1.0000000000001E+00    +9.9999999999997E-01    +1.0000000000000E+00    +1.0000000000000E+00    +1.0000000000000E+00                           |     costsh1       +1.0000000000001E+00    +1.9999999999994E+00    +2.9999999999994E+00    +3.9999999999998E+00    +5.0000000000012E+00    +6.0000000000003E+00    +6.0000000000002E+00 \n",
      "         (+1.7209551147330E-01)  (+1.6301684701002E-01)  (+2.0104049049979E-02)  (+3.1957990853817E-02)  (+1.7559969886542E-02)  (+1.3298527238005E-02)                          |                  (+1.7107045772261E-01)  (+5.1392529984977E-01)  (+2.3897977261083E-01)  (+4.8473258216525E-01)  (+5.5271441003316E-01)  (+6.2362815988359E-01)  (+4.5250014100917E-01)\n",
      "                                                                                                                                                                                 |                                                                                                                                                                                        \n",
      "costsh2   +9.9999999999995E-01    +9.9999999999995E-01    +1.0000000000001E+00    +1.0000000000000E+00    +1.0000000000001E+00    +1.0000000000000E+00    +9.9999999999998E-01   |     costsh2       +9.9999999999993E-01    +1.9999999999991E+00    +2.9999999999992E+00    +3.9999999999997E+00    +5.0000000000011E+00    +6.0000000000002E+00    +7.0000000000000E+00 \n",
      "         (+2.6398477796815E-01)  (+2.4699729656152E-01)  (+1.2703129848035E-02)  (+1.6743589140495E-02)  (+2.4658442430366E-02)  (+1.1503218110289E-02)  (+2.3565435220409E-02)  |                  (+2.6340767802889E-01)  (+4.8697033740639E-01)  (+5.0303961256615E-01)  (+4.4218389501217E-01)  (+9.4982228556229E-01)  (+4.5250014100917E-01)  (+1.0570647756308E+00)\n",
      "==========================================================================================================================================================================================================================================================================================================================================================================\n",
      "\n",
      "Beta Estimates (Robust SEs in Parentheses):\n",
      "==============================================================================================================================================\n",
      "        prices                  char1                   char2                   char3                  costsh1                 costsh2        \n",
      "----------------------  ----------------------  ----------------------  ----------------------  ----------------------  ----------------------\n",
      " -4.1707432781090E+00    -3.2391633241385E-02    -5.5085591957456E-01    -5.6303480514095E-01    -2.1522577797152E+00    -2.8679942066731E+00 \n",
      "(+1.4491747153455E-01)  (+1.7680611626277E-01)  (+1.8504052281318E-01)  (+1.5484102168733E-01)  (+2.4464903720885E-01)  (+3.8605561201587E-01)\n",
      "==============================================================================================================================================\n",
      "Parameter Estimates:\n",
      "[[-4.17074328]\n",
      " [-0.03239163]\n",
      " [-0.55085592]\n",
      " [-0.56303481]\n",
      " [-2.15225778]\n",
      " [-2.86799421]]\n",
      "[[1. 0. 0. 0. 0. 0. 0.]\n",
      " [1. 1. 0. 0. 0. 0. 0.]\n",
      " [1. 1. 1. 0. 0. 0. 0.]\n",
      " [1. 1. 1. 1. 0. 0. 0.]\n",
      " [1. 1. 1. 1. 1. 0. 0.]\n",
      " [1. 1. 1. 1. 1. 1. 0.]\n",
      " [1. 1. 1. 1. 1. 1. 1.]]\n"
     ]
    }
   ],
   "source": [
    "results3 = mc_problem.solve(sigma=np.ones((7, 7)), method='2s', optimization=bfgs)\n",
    "results3\n",
    "\n",
    "print(\"Parameter Estimates:\")\n",
    "print(results3.beta)\n",
    "print(results3.sigma) \n"
   ]
  },
  {
   "cell_type": "markdown",
   "metadata": {},
   "source": [
    "1.e. Provide an explicit expression for the variance-covariance matrix of your estimates, and discuss how simulation error affects it."
   ]
  },
  {
   "cell_type": "code",
   "execution_count": 183,
   "metadata": {},
   "outputs": [
    {
     "name": "stdout",
     "output_type": "stream",
     "text": [
      "          0         1         2         3         4         5         6   \\\n",
      "0   0.001625  0.006537  0.025125  0.065225  0.030401 -0.029274  0.031231   \n",
      "1   0.006537  4.293952  4.302209  0.314232  0.113451 -1.159126  1.101348   \n",
      "2   0.025125  4.302209  4.835561  1.956313  0.986260 -1.732861  1.941210   \n",
      "3   0.065225  0.314232  1.956313  5.469107  2.906676 -2.341999  2.428853   \n",
      "4   0.030401  0.113451  0.986260  2.906676  1.591627 -1.134491  1.223724   \n",
      "5  -0.029274 -1.159126 -1.732861 -2.341999 -1.134491  2.201772 -0.888219   \n",
      "6   0.031231  1.101348  1.941210  2.428853  1.223724 -0.888219  1.910208   \n",
      "7   0.057660  1.833390  3.264304  4.553202  2.302630 -2.288523  2.881109   \n",
      "8   0.000791  1.169556  1.126886  0.065212 -0.010042 -0.652926  0.148581   \n",
      "9   0.056135  2.397238  3.580147  3.990872  2.006543 -2.315535  2.476680   \n",
      "10 -0.048687 -1.922865 -2.368904 -1.759663 -0.743116  1.462130 -1.205421   \n",
      "11 -0.064725 -1.463398 -2.322486 -3.016845 -1.406388  1.774001 -1.765258   \n",
      "12 -0.044718 -0.675702 -1.792690 -4.408653 -2.222433  3.693224 -1.279845   \n",
      "13 -0.045929  0.589425 -0.681120 -4.395705 -2.290715  2.425964 -1.512774   \n",
      "14 -0.009695  0.528634  0.133831 -1.604920 -0.838303  1.364510 -0.141741   \n",
      "15 -0.044255  3.156325  1.913687 -3.133666 -1.750429 -1.008606 -1.638262   \n",
      "16 -0.040716  2.972820  1.846746 -2.777120 -1.557138 -1.097925 -1.504849   \n",
      "17  0.007546  0.272980  0.467612  0.665468  0.342117 -0.400281  0.352863   \n",
      "18  0.009163  0.037604  0.338548  1.043295  0.546932 -0.631044  0.402680   \n",
      "19  0.004235 -0.242256 -0.102985  0.351293  0.198142  0.089797  0.213553   \n",
      "20 -0.003252 -0.043419 -0.151378 -0.395354 -0.206164  0.281848 -0.135488   \n",
      "21 -0.038401 -2.446844 -3.626070 -5.294880 -2.655337  5.859947 -1.301978   \n",
      "22 -0.034888 -2.341269 -3.410529 -4.855273 -2.429463  5.474742 -1.175007   \n",
      "23 -0.004949  0.003678 -0.057309 -0.141531 -0.067825 -0.083358 -0.153364   \n",
      "24 -0.001956 -0.405537 -0.390187 -0.058574 -0.009977  0.285681 -0.025659   \n",
      "25 -0.005055  0.151606  0.089393 -0.053596 -0.029830 -0.338742 -0.185900   \n",
      "26 -0.003472  0.035177 -0.081011 -0.390399 -0.207578  0.199150 -0.148903   \n",
      "27 -0.001639 -0.159239 -0.235506 -0.383542 -0.193347  0.492592 -0.045827   \n",
      "28  0.013635  4.634001  4.934335  1.185445  0.594246 -1.429526  1.683661   \n",
      "29  0.072356  0.986000  2.844016  6.401705  3.414889 -3.155520  2.730571   \n",
      "30  0.060550  2.360282  4.205826  5.854666  2.993545 -3.145988  3.669605   \n",
      "31 -0.081578 -1.208150 -1.786713 -1.761148 -0.659836  0.246470 -1.713496   \n",
      "32 -0.065609  4.370627  2.543022 -4.674718 -2.599999 -1.282539 -2.441129   \n",
      "33 -0.060148 -3.549730 -5.377535 -8.041879 -4.043283  8.610663 -2.081699   \n",
      "\n",
      "          7         8         9   ...        24        25        26        27  \\\n",
      "0   0.057660  0.000791  0.056135  ... -0.001956 -0.005055 -0.003472 -0.001639   \n",
      "1   1.833390  1.169556  2.397238  ... -0.405537  0.151606  0.035177 -0.159239   \n",
      "2   3.264304  1.126886  3.580147  ... -0.390187  0.089393 -0.081011 -0.235506   \n",
      "3   4.553202  0.065212  3.990872  ... -0.058574 -0.053596 -0.390399 -0.383542   \n",
      "4   2.302630 -0.010042  2.006543  ... -0.009977 -0.029830 -0.207578 -0.193347   \n",
      "5  -2.288523 -0.652926 -2.315535  ...  0.285681 -0.338742  0.199150  0.492592   \n",
      "6   2.881109  0.148581  2.476680  ... -0.025659 -0.185900 -0.148903 -0.045827   \n",
      "7   4.890510  0.464468  4.385462  ... -0.163979 -0.073260 -0.308801 -0.317627   \n",
      "8   0.464468  0.445124  0.661046  ... -0.168965  0.165019 -0.006892 -0.153018   \n",
      "9   4.385462  0.661046  4.199754  ... -0.255128  0.000437 -0.254887 -0.334154   \n",
      "10 -2.265049 -0.585183 -2.485594  ...  0.260699  0.014439  0.078719  0.161280   \n",
      "11 -3.207016 -0.417269 -3.176785  ...  0.204011  0.097503  0.170447  0.191032   \n",
      "12 -3.659117 -0.796811 -3.473419  ...  0.374819 -0.613231  0.402446  0.891077   \n",
      "13 -3.369697 -0.100447 -2.827373  ...  0.085807 -0.208868  0.371262  0.532934   \n",
      "14 -0.965147 -0.160943 -0.810933  ...  0.095682 -0.306758  0.174394  0.390548   \n",
      "15 -1.845625  1.447917 -0.719684  ... -0.557595  0.779719  0.187301 -0.429655   \n",
      "16 -1.607376  1.391905 -0.560559  ... -0.538172  0.765104  0.158660 -0.444743   \n",
      "17  0.667629  0.093925  0.620327  ... -0.037033  0.021758 -0.048606 -0.072839   \n",
      "18  0.873108  0.078986  0.753338  ... -0.036547  0.069206 -0.089207 -0.142420   \n",
      "19  0.251349 -0.132236  0.132957  ...  0.053746 -0.080715 -0.020547  0.042947   \n",
      "20 -0.330159 -0.051181 -0.296815  ...  0.022987 -0.042000  0.035314  0.067555   \n",
      "21 -4.747676 -1.797835 -4.874613  ...  0.772879 -1.261742  0.531638  1.517863   \n",
      "22 -4.375954 -1.703983 -4.518373  ...  0.731358 -1.190591  0.490366  1.421377   \n",
      "23 -0.159202  0.056768 -0.127487  ... -0.022106  0.072348 -0.000615 -0.048964   \n",
      "24 -0.163979 -0.168965 -0.255128  ...  0.069246 -0.068253  0.004862  0.066288   \n",
      "25 -0.073260  0.165019  0.000437  ... -0.068253  0.150186 -0.015139 -0.123607   \n",
      "26 -0.308801 -0.006892 -0.254887  ...  0.004862 -0.015139  0.032684  0.043616   \n",
      "27 -0.317627 -0.153018 -0.334154  ...  0.066288 -0.123607  0.043616  0.137166   \n",
      "28  2.735584  1.200271  3.171575  ... -0.404945  0.105406 -0.020954 -0.184703   \n",
      "29  5.390968  0.347227  4.901551  ... -0.175681  0.092422 -0.465018 -0.577466   \n",
      "30  6.324197  0.687308  5.583490  ... -0.227217  0.042736 -0.427522 -0.518958   \n",
      "31 -2.322752  0.029236 -2.402519  ...  0.038799  0.608749 -0.005710 -0.327040   \n",
      "32 -2.848033  2.015741 -1.241121  ... -0.775266  1.096274  0.282225 -0.582249   \n",
      "33 -7.204460 -2.592059 -7.332985  ...  1.115226 -1.808972  0.795536  2.212190   \n",
      "\n",
      "          28         29         30        31         32         33  \n",
      "0   0.013635   0.072356   0.060550 -0.081578  -0.065609  -0.060148  \n",
      "1   4.634001   0.986000   2.360282 -1.208150   4.370627  -3.549730  \n",
      "2   4.934335   2.844016   4.205826 -1.786713   2.543022  -5.377535  \n",
      "3   1.185445   6.401705   5.854666 -1.761148  -4.674718  -8.041879  \n",
      "4   0.594246   3.414889   2.993545 -0.659836  -2.599999  -4.043283  \n",
      "5  -1.429526  -3.155520  -3.145988  0.246470  -1.282539   8.610663  \n",
      "6   1.683661   2.730571   3.669605 -1.713496  -2.441129  -2.081699  \n",
      "7   2.735584   5.390968   6.324197 -2.322752  -2.848033  -7.204460  \n",
      "8   1.200271   0.347227   0.687308  0.029236   2.015741  -2.592059  \n",
      "9   3.171575   4.901551   5.583490 -2.402519  -1.241121  -7.332985  \n",
      "10 -2.182505  -2.237446  -2.554063  2.733128  -0.572666   3.847288  \n",
      "11 -1.911046  -3.573607  -3.733153  3.225490   1.415680   4.727002  \n",
      "12 -1.125759  -5.767854  -5.207991 -0.556063  -0.808843  15.200772  \n",
      "13  0.045620  -5.247973  -4.606672  0.163070   2.931613   9.586299  \n",
      "14  0.437732  -2.094585  -1.559621 -1.042414  -0.087876   6.267674  \n",
      "15  2.590839  -2.594269  -1.935009  2.310893  10.395048  -5.739507  \n",
      "16  2.457645  -2.212195  -1.619857  2.269410   9.827562  -6.065444  \n",
      "17  0.391004   0.823860   0.885637 -0.200549  -0.202089  -1.430222  \n",
      "18  0.185777   1.281073   1.222963  0.052191  -0.456763  -2.543752  \n",
      "19 -0.166722   0.308779   0.287236 -0.236494  -1.044304   0.543970  \n",
      "20 -0.094833  -0.503648  -0.472981 -0.064596   0.045866   1.169754  \n",
      "21 -2.957286  -7.588814  -7.182399 -2.382362  -5.556556  25.164128  \n",
      "22 -2.802350  -6.999528  -6.637352 -2.258583  -5.395718  23.534621  \n",
      "23 -0.034504  -0.097785  -0.124754  0.412807   0.544900  -0.638996  \n",
      "24 -0.404945  -0.175681  -0.227217  0.038799  -0.775266   1.115226  \n",
      "25  0.105406   0.092422   0.042736  0.608749   1.096274  -1.808972  \n",
      "26 -0.020954  -0.465018  -0.427522 -0.005710   0.282225   0.795536  \n",
      "27 -0.184703  -0.577466  -0.518958 -0.327040  -0.582249   2.212190  \n",
      "28  5.187265   1.997688   3.550095 -1.498578   3.529799  -4.355901  \n",
      "29  1.997688   7.721319   7.040875 -1.608728  -3.968287 -11.409915  \n",
      "30  3.550095   7.040875   8.457279 -1.880133  -3.047115 -10.819213  \n",
      "31 -1.498578  -1.608728  -1.880133  5.922008   3.357589  -3.289193  \n",
      "32  3.529799  -3.968287  -3.047115  3.357589  14.783728  -7.613216  \n",
      "33 -4.355901 -11.409915 -10.819213 -3.289193  -7.613216  36.812617  \n",
      "\n",
      "[34 rows x 34 columns]\n"
     ]
    }
   ],
   "source": [
    "results3_cov = pd.DataFrame(results3.parameter_covariances)\n",
    "print(results3_cov)"
   ]
  },
  {
   "cell_type": "markdown",
   "metadata": {},
   "source": [
    "2. Compare the cross and own-price elasticities for market 10 for the RC logit and pure logit model."
   ]
  },
  {
   "cell_type": "code",
   "execution_count": 185,
   "metadata": {},
   "outputs": [
    {
     "name": "stdout",
     "output_type": "stream",
     "text": [
      "Computing elasticities with respect to prices ...\n",
      "Finished after 00:00:00.\n",
      "\n",
      "          0         1         2         3         4         5         6   \\\n",
      "0  -3.791656  0.591234  0.076763  0.038112  0.245743  0.209206  0.037551   \n",
      "1   0.065788 -3.422239  0.076763  0.038112  0.245743  0.209206  0.037551   \n",
      "2   0.065788  0.591234 -5.220499  0.038112  0.245743  0.209206  0.037551   \n",
      "3   0.065788  0.591234  0.076763 -3.584304  0.245743  0.209206  0.037551   \n",
      "4   0.065788  0.591234  0.076763  0.038112 -4.433488  0.209206  0.037551   \n",
      "5   0.065788  0.591234  0.076763  0.038112  0.245743 -3.041279  0.037551   \n",
      "6   0.065788  0.591234  0.076763  0.038112  0.245743  0.209206 -5.773704   \n",
      "7   0.065788  0.591234  0.076763  0.038112  0.245743  0.209206  0.037551   \n",
      "8   0.065788  0.591234  0.076763  0.038112  0.245743  0.209206  0.037551   \n",
      "9   0.065788  0.591234  0.076763  0.038112  0.245743  0.209206  0.037551   \n",
      "10  0.065788  0.591234  0.076763  0.038112  0.245743  0.209206  0.037551   \n",
      "\n",
      "          7         8         9         10  \n",
      "0   0.011711  0.377774  0.024602  0.009697  \n",
      "1   0.011711  0.377774  0.024602  0.009697  \n",
      "2   0.011711  0.377774  0.024602  0.009697  \n",
      "3   0.011711  0.377774  0.024602  0.009697  \n",
      "4   0.011711  0.377774  0.024602  0.009697  \n",
      "5   0.011711  0.377774  0.024602  0.009697  \n",
      "6   0.011711  0.377774  0.024602  0.009697  \n",
      "7  -5.278629  0.377774  0.024602  0.009697  \n",
      "8   0.011711 -3.271287  0.024602  0.009697  \n",
      "9   0.011711  0.377774 -6.355967  0.009697  \n",
      "10  0.011711  0.377774  0.024602 -4.709363  \n"
     ]
    }
   ],
   "source": [
    "elasticities2 = results3.compute_elasticities()\n",
    "elasticities2_market_10 = pd.DataFrame(elasticities2[data.market_ids == 10])\n",
    "elasticities2_market_10 = elasticities2_market_10.dropna(axis=1, how='all')\n",
    "\n",
    "print(elasticities_market_10)"
   ]
  },
  {
   "cell_type": "markdown",
   "metadata": {},
   "source": [
    "3. We are assuming here that demand in all markets is identical. With data on the distribution of income within each market, how could you let the distribution of $\\alpha_i$ (the random variable coeffcient on price) vary systematically across markets?"
   ]
  },
  {
   "cell_type": "markdown",
   "metadata": {},
   "source": []
  },
  {
   "cell_type": "markdown",
   "metadata": {},
   "source": [
    "4. Let's assume, only for this question, that you had \\micro moments\" as in Berry, Levinsohn, and Pakes (2004): the covariance of consumer attributes and product characteristics as well as the covariance between first- and second-choice characteristics. How could you integrate them into your estimation procedure to improve the precision of your estimates? Which of the coeffcients would each of the different sets of moments be particularly useful in \"pinning down\"?"
   ]
  },
  {
   "cell_type": "code",
   "execution_count": null,
   "metadata": {},
   "outputs": [],
   "source": []
  },
  {
   "cell_type": "markdown",
   "metadata": {},
   "source": [
    "5. Suppose in addition that each product has the following marginal cost structure: $$mc_j = \\begin{bmatrix} x_j & cs_j \\end{bmatrix}' \\gamma + \\omega_j$$ where cs is the J x 2 matrix of cost shifters.\n",
    "\n",
    "5.a. Explain how you can estimate based on your estimates for the demand side and different assumptions on the supply side (product-level profft maximization, firm-level profit maximization, collusion to maximize total profit). How could you obtain valid standard errors?"
   ]
  }
 ],
 "metadata": {
  "kernelspec": {
   "display_name": "blp_python",
   "language": "python",
   "name": "python3"
  },
  "language_info": {
   "codemirror_mode": {
    "name": "ipython",
    "version": 3
   },
   "file_extension": ".py",
   "mimetype": "text/x-python",
   "name": "python",
   "nbconvert_exporter": "python",
   "pygments_lexer": "ipython3",
   "version": "3.12.7"
  }
 },
 "nbformat": 4,
 "nbformat_minor": 2
}
