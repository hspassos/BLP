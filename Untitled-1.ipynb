{
 "cells": [
  {
   "cell_type": "code",
   "execution_count": null,
   "metadata": {},
   "outputs": [
    {
     "ename": "ModuleNotFoundError",
     "evalue": "No module named 'scipy'",
     "output_type": "error",
     "traceback": [
      "\u001b[0;31m---------------------------------------------------------------------------\u001b[0m",
      "\u001b[0;31mModuleNotFoundError\u001b[0m                       Traceback (most recent call last)",
      "Cell \u001b[0;32mIn[12], line 1\u001b[0m\n\u001b[0;32m----> 1\u001b[0m \u001b[38;5;28;01mimport\u001b[39;00m\u001b[38;5;250m \u001b[39m\u001b[38;5;21;01mscipy\u001b[39;00m\u001b[38;5;21;01m.\u001b[39;00m\u001b[38;5;21;01mio\u001b[39;00m\n\u001b[1;32m      2\u001b[0m \u001b[38;5;66;03m#import numpy as np\u001b[39;00m\n\u001b[1;32m      3\u001b[0m \u001b[38;5;66;03m#import pandas as pd\u001b[39;00m\n\u001b[1;32m      4\u001b[0m \u001b[38;5;66;03m#import scipy.stats as stats\u001b[39;00m\n\u001b[1;32m      5\u001b[0m \u001b[38;5;66;03m#import pyblp\u001b[39;00m\n",
      "\u001b[0;31mModuleNotFoundError\u001b[0m: No module named 'scipy'"
     ]
    }
   ],
   "source": [
    "import scipy.io\n",
    "import numpy as np\n",
    "import pandas as pd\n",
    "import scipy.stats as stats\n",
    "import pyblp"
   ]
  },
  {
   "cell_type": "code",
   "execution_count": null,
   "metadata": {},
   "outputs": [
    {
     "name": "stderr",
     "output_type": "stream",
     "text": [
      "492.54s - pydevd: Sending message related to process being replaced timed-out after 5 seconds\n"
     ]
    },
    {
     "name": "stdout",
     "output_type": "stream",
     "text": [
      "Channels:\n",
      " - defaults\n",
      "Platform: linux-64\n",
      "Collecting package metadata (repodata.json): done\n",
      "Solving environment: failed\n",
      "\n",
      "PackagesNotFoundError: The following packages are not available from current channels:\n",
      "\n",
      "  - scipy.io\n",
      "\n",
      "Current channels:\n",
      "\n",
      "  - https://repo.anaconda.com/pkgs/main\n",
      "  - https://repo.anaconda.com/pkgs/r\n",
      "\n",
      "To search for alternate channels that may provide the conda package you're\n",
      "looking for, navigate to\n",
      "\n",
      "    https://anaconda.org\n",
      "\n",
      "and use the search bar at the top of the page.\n",
      "\n",
      "\n"
     ]
    }
   ],
   "source": [
    "!conda install scipy.io\n",
    "!conda install numpy\n",
    "!conda install pandas"
   ]
  },
  {
   "cell_type": "code",
   "execution_count": null,
   "metadata": {},
   "outputs": [],
   "source": [
    "mat_data = scipy.io.loadmat(\"/home/hspassos/mestrado/industrial/demand_data.mat\")\n",
    "\n",
    "prodsMarket = {'market': [1, 2, 3, 4, 5, 6, 7, 8, 9, 10]}\n",
    "prodsMarket = pd.DataFrame(prodsMarket)\n",
    "prodsMarket['prodsMarket'] = mat_data['prodsMarket'].flatten()\n",
    "\n",
    "# Criar tabela com os dados por produto\n",
    "data = pd.DataFrame({\n",
    "    'market_ids': np.repeat(np.arange(len(prodsMarket)), prodsMarket['prodsMarket']),\n",
    "    'firm_ids': mat_data['f'].flatten(),\n",
    "    'shares': mat_data['share'].flatten(),\n",
    "    'prices': mat_data['pr'].flatten(),\n",
    "    'char1': mat_data['ch'][:, 0],\n",
    "    'char2': mat_data['ch'][:, 1],\n",
    "    'char3': mat_data['ch'][:, 2],\n",
    "    'char4': mat_data['ch'][:, 3],\n",
    "    'costsh1': mat_data['costShifters'][:, 0],\n",
    "    'costsh2': mat_data['costShifters'][:, 1],\n",
    "})\n",
    "\n",
    "\n",
    "# Tabela com os dados para cada mercado\n",
    "prodsMarket['activefirms'] = data.groupby('market_ids')['firm_ids'].nunique()\n",
    "\n",
    "prodsMarket['firm_1'] = data[data['firm_ids'] == 1].groupby('market_ids')['firm_ids'].count()\n",
    "prodsMarket['share_firm_1'] = data[data['firm_ids'] == 1].groupby('market_ids')['shares'].sum()\n",
    "\n",
    "prodsMarket['firm_2'] = data[data['firm_ids'] == 2].groupby('market_ids')['firm_ids'].count()\n",
    "prodsMarket['share_firm_2'] = data[data['firm_ids'] == 2].groupby('market_ids')['shares'].sum()\n",
    "\n",
    "prodsMarket['firm_3'] = data[data['firm_ids'] == 3].groupby('market_ids')['firm_ids'].count()\n",
    "prodsMarket['share_firm_3'] = data[data['firm_ids'] == 3].groupby('market_ids')['shares'].sum()\n",
    "\n",
    "prodsMarket['firm_4'] = data[data['firm_ids'] == 4].groupby('market_ids')['firm_ids'].count()\n",
    "prodsMarket['share_firm_4'] = data[data['firm_ids'] == 4].groupby('market_ids')['shares'].sum()\n",
    "\n",
    "prodsMarket['firm_5'] = data[data['firm_ids'] == 5].groupby('market_ids')['firm_ids'].count()\n",
    "prodsMarket['share_firm_5'] = data[data['firm_ids'] == 5].groupby('market_ids')['shares'].sum()\n",
    "\n",
    "prodsMarket['firm_6'] = data[data['firm_ids'] == 6].groupby('market_ids')['firm_ids'].count()\n",
    "prodsMarket['share_firm_6'] = data[data['firm_ids'] == 6].groupby('market_ids')['shares'].sum()\n",
    "\n",
    "prodsMarket['firm_7'] = data[data['firm_ids'] == 7].groupby('market_ids')['firm_ids'].count()\n",
    "prodsMarket['share_firm_7'] = data[data['firm_ids'] == 7].groupby('market_ids')['shares'].sum()\n",
    "\n",
    "prodsMarket['firm_8'] = data[data['firm_ids'] == 8].groupby('market_ids')['firm_ids'].count()\n",
    "prodsMarket['share_firm_8'] = data[data['firm_ids'] == 8].groupby('market_ids')['shares'].sum()\n",
    "\n",
    "prodsMarket['firm_9'] = data[data['firm_ids'] == 9].groupby('market_ids')['firm_ids'].count()\n",
    "prodsMarket['share_firm_9'] = data[data['firm_ids'] == 9].groupby('market_ids')['shares'].sum()\n",
    "\n",
    "prodsMarket['firm_10'] = data[data['firm_ids'] == 10].groupby('market_ids')['firm_ids'].count()\n",
    "prodsMarket['share_firm_10'] = data[data['firm_ids'] == 10].groupby('market_ids')['shares'].sum()\n",
    "\n",
    "prodsMarket['firm_11'] = data[data['firm_ids'] == 11].groupby('market_ids')['firm_ids'].count()\n",
    "prodsMarket['share_firm_11'] = data[data['firm_ids'] == 11].groupby('market_ids')['shares'].sum()\n",
    "\n",
    "\n",
    "\n",
    "statistics = pd.DataFrame({\n",
    "    'mean': data.iloc[:, 2:].mean(),\n",
    "    'median': data.iloc[:, 2:].median(),\n",
    "    'minimum': data.iloc[:, 2:].min(),\n",
    "    'maximum': data.iloc[:, 2:].max(),\n",
    "    'standard deviation': data.iloc[:, 2:].std()\n",
    "}).T"
   ]
  }
 ],
 "metadata": {
  "kernelspec": {
   "display_name": "blp",
   "language": "python",
   "name": "python3"
  },
  "language_info": {
   "codemirror_mode": {
    "name": "ipython",
    "version": 3
   },
   "file_extension": ".py",
   "mimetype": "text/x-python",
   "name": "python",
   "nbconvert_exporter": "python",
   "pygments_lexer": "ipython3",
   "version": "3.12.7"
  }
 },
 "nbformat": 4,
 "nbformat_minor": 2
}
