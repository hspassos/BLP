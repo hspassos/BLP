{
 "cells": [
  {
   "cell_type": "code",
   "execution_count": 3,
   "id": "fd6b8141-6db0-40c8-a9d6-7072fee0a1fc",
   "metadata": {},
   "outputs": [
    {
     "name": "stdout",
     "output_type": "stream",
     "text": [
      "Collecting scipy\n",
      "  Downloading scipy-1.14.1-cp312-cp312-manylinux_2_17_x86_64.manylinux2014_x86_64.whl.metadata (60 kB)\n",
      "Collecting pandas\n",
      "  Downloading pandas-2.2.3-cp312-cp312-manylinux_2_17_x86_64.manylinux2014_x86_64.whl.metadata (89 kB)\n",
      "Collecting numpy<2.3,>=1.23.5 (from scipy)\n",
      "  Downloading numpy-2.2.1-cp312-cp312-manylinux_2_17_x86_64.manylinux2014_x86_64.whl.metadata (62 kB)\n",
      "Requirement already satisfied: python-dateutil>=2.8.2 in /home/hspassos/anaconda3/envs/blp/lib/python3.12/site-packages (from pandas) (2.9.0.post0)\n",
      "Collecting pytz>=2020.1 (from pandas)\n",
      "  Downloading pytz-2024.2-py2.py3-none-any.whl.metadata (22 kB)\n",
      "Collecting tzdata>=2022.7 (from pandas)\n",
      "  Downloading tzdata-2024.2-py2.py3-none-any.whl.metadata (1.4 kB)\n",
      "Requirement already satisfied: six>=1.5 in /home/hspassos/anaconda3/envs/blp/lib/python3.12/site-packages (from python-dateutil>=2.8.2->pandas) (1.17.0)\n",
      "Downloading scipy-1.14.1-cp312-cp312-manylinux_2_17_x86_64.manylinux2014_x86_64.whl (40.8 MB)\n",
      "\u001b[2K   \u001b[90m━━━━━━━━━━━━━━━━━━━━━━━━━━━━━━━━━━━━━━━━\u001b[0m \u001b[32m40.8/40.8 MB\u001b[0m \u001b[31m5.9 MB/s\u001b[0m eta \u001b[36m0:00:00\u001b[0m00:01\u001b[0m00:01\u001b[0m\n",
      "\u001b[?25hDownloading pandas-2.2.3-cp312-cp312-manylinux_2_17_x86_64.manylinux2014_x86_64.whl (12.7 MB)\n",
      "\u001b[2K   \u001b[90m━━━━━━━━━━━━━━━━━━━━━━━━━━━━━━━━━━━━━━━━\u001b[0m \u001b[32m12.7/12.7 MB\u001b[0m \u001b[31m5.7 MB/s\u001b[0m eta \u001b[36m0:00:00\u001b[0m00:01\u001b[0m00:01\u001b[0m\n",
      "\u001b[?25hDownloading numpy-2.2.1-cp312-cp312-manylinux_2_17_x86_64.manylinux2014_x86_64.whl (16.1 MB)\n",
      "\u001b[2K   \u001b[90m━━━━━━━━━━━━━━━━━━━━━━━━━━━━━━━━━━━━━━━━\u001b[0m \u001b[32m16.1/16.1 MB\u001b[0m \u001b[31m6.7 MB/s\u001b[0m eta \u001b[36m0:00:00\u001b[0m00:01\u001b[0m00:01\u001b[0m\n",
      "\u001b[?25hDownloading pytz-2024.2-py2.py3-none-any.whl (508 kB)\n",
      "Downloading tzdata-2024.2-py2.py3-none-any.whl (346 kB)\n",
      "Installing collected packages: pytz, tzdata, numpy, scipy, pandas\n",
      "Successfully installed numpy-2.2.1 pandas-2.2.3 pytz-2024.2 scipy-1.14.1 tzdata-2024.2\n",
      "Note: you may need to restart the kernel to use updated packages.\n"
     ]
    }
   ],
   "source": [
    "pip install scipy pandas"
   ]
  },
  {
   "cell_type": "code",
   "execution_count": 1,
   "id": "5e765d6e",
   "metadata": {},
   "outputs": [],
   "source": [
    "import scipy.io\n",
    "import numpy as np\n",
    "import pandas as pd\n",
    "\n",
    "file_path = \"/home/hspassos/mestrado/industrial/demand_data.mat\"\n",
    "\n",
    "# Carregar o arquivo .mat\n",
    "mat_data = scipy.io.loadmat(file_path)\n"
   ]
  },
  {
   "cell_type": "code",
   "execution_count": null,
   "id": "1cf158fe",
   "metadata": {},
   "outputs": [],
   "source": [
    "# Excluir as chaves internas do MATLAB (não queremos \"__header__\", \"__version__\", \"__globals__\")\n",
    "keys_to_exclude = ['__header__', '__version__', '__globals__']\n",
    "filtered_data = {key: mat_data[key] for key in mat_data if key not in keys_to_exclude}\n",
    "\n",
    "# Criar uma lista para armazenar os DataFrames de cada variável\n",
    "dataframes = []\n",
    "\n",
    "# Iterar sobre as variáveis, ignorando as chaves especiais (como '__header__', '__version__', etc.)\n",
    "for key in filtered_data:\n",
    "    if key.startswith('__'):\n",
    "        continue  # Ignorar chaves especiais\n",
    "\n",
    "    # Acessar os dados de cada variável\n",
    "    data = filtered_data[key]\n",
    "\n",
    "    # Verificar o tipo de dados e tentar converter para DataFrame\n",
    "    if isinstance(data, list) or isinstance(data, np.ndarray):\n",
    "        # Converter para DataFrame, se for uma lista ou array NumPy\n",
    "        df = pd.DataFrame(data)\n",
    "        dataframes.append(df)\n",
    "    else:\n",
    "        print(f\"Não foi possível converter a variável '{key}' para um DataFrame\")\n",
    "\n",
    "# Concatenar todos os DataFrames em um único DataFrame (se desejar)\n",
    "final_dataframe = pd.concat(dataframes, axis=1)\n",
    "\n",
    "# Exibir o DataFrame final\n",
    "display(final_dataframe)"
   ]
  }
 ],
 "metadata": {
  "kernelspec": {
   "display_name": "base",
   "language": "python",
   "name": "python3"
  },
  "language_info": {
   "codemirror_mode": {
    "name": "ipython",
    "version": 3
   },
   "file_extension": ".py",
   "mimetype": "text/x-python",
   "name": "python",
   "nbconvert_exporter": "python",
   "pygments_lexer": "ipython3",
   "version": "3.12.7"
  }
 },
 "nbformat": 4,
 "nbformat_minor": 5
}
